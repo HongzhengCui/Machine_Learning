{
  "cells": [
    {
      "cell_type": "markdown",
      "metadata": {
        "id": "Y91J-58KAgTv"
      },
      "source": [
        "## Generative Adversarial Network\n",
        "\n",
        "In this notebook, a GAN is built to generate images similar to the MNIST dataset by following the work of Goodfellow et al., \"Generative Adversarial Nets\", NeurIPS'14."
      ]
    },
    {
      "cell_type": "code",
      "execution_count": 1,
      "metadata": {
        "id": "RIp89nN_AgTw"
      },
      "outputs": [],
      "source": [
        "import multiprocessing\n",
        "import numpy as np\n",
        "import matplotlib.pyplot as plt\n",
        "import torch\n",
        "import torch.nn as nn\n",
        "import torch.nn.functional as F\n",
        "import torch.optim as optim\n",
        "import torchvision"
      ]
    },
    {
      "cell_type": "markdown",
      "metadata": {
        "id": "NGYdH5gUAgTx"
      },
      "source": [
        "The generator here is a 4-layer MLP. Note that using Leaky ReLU instead of ReLU as training GANs usually requires a lot of patience."
      ]
    },
    {
      "cell_type": "code",
      "execution_count": 2,
      "metadata": {
        "id": "SWZuJu5TAgTx"
      },
      "outputs": [],
      "source": [
        "class GAN_G_Model(nn.Module):\n",
        "    def __init__(self, z_dim = 100):\n",
        "        super(GAN_G_Model, self).__init__()\n",
        "        self.fc1 = nn.Linear(z_dim, 256)\n",
        "        self.fc2 = nn.Linear(256, 512)\n",
        "        self.fc3 = nn.Linear(512, 1024)\n",
        "        self.fc4 = nn.Linear(1024, 784)\n",
        "        self.leaky_relu = nn.LeakyReLU(negative_slope=0.2)\n",
        "    # forward method\n",
        "    def forward(self, x):\n",
        "        x = self.leaky_relu(self.fc1(x))\n",
        "        x = self.leaky_relu(self.fc2(x))\n",
        "        x = self.leaky_relu(self.fc3(x))\n",
        "        return torch.tanh(self.fc4(x))"
      ]
    },
    {
      "cell_type": "markdown",
      "metadata": {
        "id": "jVxPyIPQAgTx"
      },
      "source": [
        "The discriminator is again a 4-layer MLP which accepts an image (fake/real) and predicts a score in the range [0,1]. Here, 1 means real, 0 means fake."
      ]
    },
    {
      "cell_type": "code",
      "execution_count": 3,
      "metadata": {
        "id": "LHQ3hLE7AgTx"
      },
      "outputs": [],
      "source": [
        "class GAN_D_Model(nn.Module):\n",
        "    def __init__(self):\n",
        "        super(GAN_D_Model, self).__init__()\n",
        "        self.fc1 = nn.Linear(784, 1024)\n",
        "        self.fc2 = nn.Linear(1024, 512)\n",
        "        self.fc3 = nn.Linear(512, 256)\n",
        "        self.fc4 = nn.Linear(256, 1)\n",
        "        self.leaky_relu = nn.LeakyReLU(negative_slope=0.2)\n",
        "    # forward method\n",
        "    def forward(self, x):\n",
        "        x = self.leaky_relu(self.fc1(x))\n",
        "        x = F.dropout(x, 0.3)\n",
        "        x = self.leaky_relu(self.fc2(x))\n",
        "        x = F.dropout(x, 0.3)\n",
        "        x = self.leaky_relu(self.fc3(x))\n",
        "        x = F.dropout(x, 0.3)\n",
        "        return torch.sigmoid(self.fc4(x))"
      ]
    },
    {
      "cell_type": "markdown",
      "metadata": {
        "id": "4IwqXlipAgTx"
      },
      "source": [
        "## Training\n",
        "\n",
        "This is the most important part of the code. To train a GAN, performing the following three steps,\n",
        "\n",
        "1- feed the discrimnator with real images and get the gradient.\n",
        "2- feed the discrimnator with fake images and get the gradient.\n",
        "\n",
        "3- Use the gradient from 1 and 2 to update the discriminator.\n",
        "\n",
        "4- Feed the genrator with random vectors and get its output.\n",
        "5- Use 4 and the discriminator to compute the gradient of the generator.\n",
        "6- Update the generator"
      ]
    },
    {
      "cell_type": "code",
      "execution_count": 4,
      "metadata": {
        "id": "jpyFa71NAgTx"
      },
      "outputs": [],
      "source": [
        "def train_GAN(x):\n",
        "    #first update the discriminator\n",
        "    num_imgs = x.shape[0]\n",
        "    x_real = x.view(-1, 784).to(device)\n",
        "\n",
        "    GAN_D.zero_grad()\n",
        "    # train discriminator on real images\n",
        "    #============================\n",
        "    y_real = torch.ones(num_imgs, 1).to(device)\n",
        "    D_output_real = GAN_D(x_real)\n",
        "    # recall BCE_Loss(x, y): - y * log(D(x)) - (1-y) * log(1 - D(x))\n",
        "    D_loss_real = criterion(D_output_real, y_real)\n",
        "\n",
        "\n",
        "    # train discriminator on fake images\n",
        "    #============================\n",
        "    z = torch.randn(num_imgs, z_dim).to(device)\n",
        "    x_fake = GAN_G(z)\n",
        "    y_fake = torch.zeros(num_imgs, 1).to(device)\n",
        "\n",
        "    D_output_fake = GAN_D(x_fake)\n",
        "    D_loss_fake = criterion(D_output_fake, y_fake)\n",
        "\n",
        "\n",
        "    # optimize the discriminator's parameters\n",
        "    D_loss_total = (D_loss_real + D_loss_fake)/2\n",
        "    D_loss_total.backward()\n",
        "    D_optimizer.step()\n",
        "\n",
        "\n",
        "#=======================Train the generator=======================#\n",
        "    GAN_G.zero_grad()\n",
        "\n",
        "    z = torch.randn(num_imgs, z_dim).to(device)\n",
        "    G_output = GAN_G(z)\n",
        "    # train G to maximize log(D(G(z)) instead of minimizing log(1-D(G(z)))\n",
        "    # For the reason, see the last paragraph of section 3. https://arxiv.org/pdf/1406.2661.pdf\n",
        "    D_output = GAN_D(G_output)\n",
        "    G_loss = criterion(D_output, y_real)\n",
        "\n",
        "    # gradient backprop & optimize ONLY G's parameters\n",
        "    G_loss.backward()\n",
        "    G_optimizer.step()\n",
        "\n",
        "    return D_loss_total.data.item(), G_loss.data.item()"
      ]
    },
    {
      "cell_type": "markdown",
      "metadata": {
        "id": "POS--_6eAgTy"
      },
      "source": [
        "Loading data and instantiating the networks"
      ]
    },
    {
      "cell_type": "code",
      "execution_count": 6,
      "metadata": {
        "colab": {
          "base_uri": "https://localhost:8080/"
        },
        "id": "prS77jAXAgTy",
        "outputId": "b4b95d00-c66c-40f3-9d76-6d5dd4ac3ffe"
      },
      "outputs": [
        {
          "output_type": "stream",
          "name": "stdout",
          "text": [
            "Downloading http://yann.lecun.com/exdb/mnist/train-images-idx3-ubyte.gz\n",
            "Downloading http://yann.lecun.com/exdb/mnist/train-images-idx3-ubyte.gz to ../../data/MNIST/raw/train-images-idx3-ubyte.gz\n"
          ]
        },
        {
          "output_type": "stream",
          "name": "stderr",
          "text": [
            "100%|██████████| 9912422/9912422 [00:00<00:00, 75058603.82it/s]\n"
          ]
        },
        {
          "output_type": "stream",
          "name": "stdout",
          "text": [
            "Extracting ../../data/MNIST/raw/train-images-idx3-ubyte.gz to ../../data/MNIST/raw\n",
            "\n",
            "Downloading http://yann.lecun.com/exdb/mnist/train-labels-idx1-ubyte.gz\n",
            "Downloading http://yann.lecun.com/exdb/mnist/train-labels-idx1-ubyte.gz to ../../data/MNIST/raw/train-labels-idx1-ubyte.gz\n"
          ]
        },
        {
          "output_type": "stream",
          "name": "stderr",
          "text": [
            "100%|██████████| 28881/28881 [00:00<00:00, 26782156.49it/s]\n"
          ]
        },
        {
          "output_type": "stream",
          "name": "stdout",
          "text": [
            "Extracting ../../data/MNIST/raw/train-labels-idx1-ubyte.gz to ../../data/MNIST/raw\n",
            "\n",
            "Downloading http://yann.lecun.com/exdb/mnist/t10k-images-idx3-ubyte.gz\n",
            "Downloading http://yann.lecun.com/exdb/mnist/t10k-images-idx3-ubyte.gz to ../../data/MNIST/raw/t10k-images-idx3-ubyte.gz\n"
          ]
        },
        {
          "output_type": "stream",
          "name": "stderr",
          "text": [
            "100%|██████████| 1648877/1648877 [00:00<00:00, 27277533.93it/s]\n"
          ]
        },
        {
          "output_type": "stream",
          "name": "stdout",
          "text": [
            "Extracting ../../data/MNIST/raw/t10k-images-idx3-ubyte.gz to ../../data/MNIST/raw\n",
            "\n",
            "Downloading http://yann.lecun.com/exdb/mnist/t10k-labels-idx1-ubyte.gz\n",
            "Downloading http://yann.lecun.com/exdb/mnist/t10k-labels-idx1-ubyte.gz to ../../data/MNIST/raw/t10k-labels-idx1-ubyte.gz\n"
          ]
        },
        {
          "output_type": "stream",
          "name": "stderr",
          "text": [
            "100%|██████████| 4542/4542 [00:00<00:00, 25989807.32it/s]\n"
          ]
        },
        {
          "output_type": "stream",
          "name": "stdout",
          "text": [
            "Extracting ../../data/MNIST/raw/t10k-labels-idx1-ubyte.gz to ../../data/MNIST/raw\n",
            "\n"
          ]
        }
      ],
      "source": [
        "cuda = torch.cuda.is_available()\n",
        "n_workers = multiprocessing.cpu_count()\n",
        "device = 'cuda' if torch.cuda.is_available() else 'cpu'\n",
        "batch_size = 32 #use a small batch size\n",
        "\n",
        "\n",
        "MNIST_transform = torchvision.transforms.Compose([\n",
        "    torchvision.transforms.ToTensor(),\n",
        "    torchvision.transforms.Normalize(mean=[0.5], std=[0.5])])\n",
        "\n",
        "\n",
        "train_data = torchvision.datasets.MNIST(root = '../../data',\n",
        "                                        download=True,\n",
        "                                        transform=MNIST_transform)\n",
        "\n",
        "train_loader = torch.utils.data.DataLoader(train_data, batch_size=batch_size,\n",
        "                          shuffle=False, num_workers=n_workers)\n",
        "\n",
        "GAN_G = GAN_G_Model().to(device)\n",
        "GAN_D = GAN_D_Model().to(device)\n",
        "\n"
      ]
    },
    {
      "cell_type": "markdown",
      "metadata": {
        "id": "DNyCg0jrAgTy"
      },
      "source": [
        "The dimenionality of the random vector is 100. Below, set up the optimizers (the learning rate is 0.0002 for ADAM optimizers for this experiment)"
      ]
    },
    {
      "cell_type": "code",
      "execution_count": 7,
      "metadata": {
        "id": "Wb4-lqmEAgTy"
      },
      "outputs": [],
      "source": [
        "z_dim = 100\n",
        "criterion = nn.BCELoss().to(device)\n",
        "learning_rate = 0.0002\n",
        "G_optimizer = optim.Adam(GAN_G.parameters(), lr=learning_rate)\n",
        "D_optimizer = optim.Adam(GAN_D.parameters(), lr=learning_rate)\n",
        "\n"
      ]
    },
    {
      "cell_type": "markdown",
      "metadata": {
        "id": "0uxrVR6MAgTy"
      },
      "source": [
        "### Training Loop\n",
        "\n",
        "Train the model for 200 epochs."
      ]
    },
    {
      "cell_type": "code",
      "execution_count": 9,
      "metadata": {
        "colab": {
          "base_uri": "https://localhost:8080/"
        },
        "id": "V4Ys5D9IAgTy",
        "outputId": "0a706fe1-d9c1-4831-cc9f-246af9c61a8c"
      },
      "outputs": [
        {
          "output_type": "stream",
          "name": "stdout",
          "text": [
            "[ 1/200]: loss_d: 0.389, loss_g: 1.899\n",
            "[ 2/200]: loss_d: 0.429, loss_g: 1.693\n",
            "[ 3/200]: loss_d: 0.454, loss_g: 1.589\n",
            "[ 4/200]: loss_d: 0.474, loss_g: 1.504\n",
            "[ 5/200]: loss_d: 0.510, loss_g: 1.356\n",
            "[ 6/200]: loss_d: 0.504, loss_g: 1.380\n",
            "[ 7/200]: loss_d: 0.513, loss_g: 1.351\n",
            "[ 8/200]: loss_d: 0.524, loss_g: 1.287\n",
            "[ 9/200]: loss_d: 0.569, loss_g: 1.122\n",
            "[10/200]: loss_d: 0.576, loss_g: 1.103\n",
            "[11/200]: loss_d: 0.582, loss_g: 1.079\n",
            "[12/200]: loss_d: 0.589, loss_g: 1.047\n",
            "[13/200]: loss_d: 0.596, loss_g: 1.023\n",
            "[14/200]: loss_d: 0.598, loss_g: 1.020\n",
            "[15/200]: loss_d: 0.610, loss_g: 0.976\n",
            "[16/200]: loss_d: 0.614, loss_g: 0.958\n",
            "[17/200]: loss_d: 0.612, loss_g: 0.965\n",
            "[18/200]: loss_d: 0.619, loss_g: 0.951\n",
            "[19/200]: loss_d: 0.625, loss_g: 0.923\n",
            "[20/200]: loss_d: 0.632, loss_g: 0.903\n",
            "[21/200]: loss_d: 0.633, loss_g: 0.900\n",
            "[22/200]: loss_d: 0.629, loss_g: 0.913\n",
            "[23/200]: loss_d: 0.632, loss_g: 0.899\n",
            "[24/200]: loss_d: 0.635, loss_g: 0.894\n",
            "[25/200]: loss_d: 0.643, loss_g: 0.873\n",
            "[26/200]: loss_d: 0.641, loss_g: 0.872\n",
            "[27/200]: loss_d: 0.641, loss_g: 0.874\n",
            "[28/200]: loss_d: 0.641, loss_g: 0.871\n",
            "[29/200]: loss_d: 0.644, loss_g: 0.866\n",
            "[30/200]: loss_d: 0.646, loss_g: 0.857\n",
            "[31/200]: loss_d: 0.644, loss_g: 0.862\n",
            "[32/200]: loss_d: 0.644, loss_g: 0.864\n",
            "[33/200]: loss_d: 0.649, loss_g: 0.847\n",
            "[34/200]: loss_d: 0.646, loss_g: 0.853\n",
            "[35/200]: loss_d: 0.650, loss_g: 0.844\n",
            "[36/200]: loss_d: 0.649, loss_g: 0.851\n",
            "[37/200]: loss_d: 0.651, loss_g: 0.841\n",
            "[38/200]: loss_d: 0.651, loss_g: 0.847\n",
            "[39/200]: loss_d: 0.656, loss_g: 0.829\n",
            "[40/200]: loss_d: 0.655, loss_g: 0.834\n",
            "[41/200]: loss_d: 0.652, loss_g: 0.844\n",
            "[42/200]: loss_d: 0.652, loss_g: 0.839\n",
            "[43/200]: loss_d: 0.655, loss_g: 0.829\n",
            "[44/200]: loss_d: 0.654, loss_g: 0.832\n",
            "[45/200]: loss_d: 0.651, loss_g: 0.845\n",
            "[46/200]: loss_d: 0.652, loss_g: 0.844\n",
            "[47/200]: loss_d: 0.652, loss_g: 0.841\n",
            "[48/200]: loss_d: 0.653, loss_g: 0.835\n",
            "[49/200]: loss_d: 0.653, loss_g: 0.839\n",
            "[50/200]: loss_d: 0.657, loss_g: 0.822\n",
            "[51/200]: loss_d: 0.655, loss_g: 0.831\n",
            "[52/200]: loss_d: 0.654, loss_g: 0.836\n",
            "[53/200]: loss_d: 0.653, loss_g: 0.840\n",
            "[54/200]: loss_d: 0.656, loss_g: 0.833\n",
            "[55/200]: loss_d: 0.655, loss_g: 0.831\n",
            "[56/200]: loss_d: 0.656, loss_g: 0.832\n",
            "[57/200]: loss_d: 0.658, loss_g: 0.830\n",
            "[58/200]: loss_d: 0.654, loss_g: 0.836\n",
            "[59/200]: loss_d: 0.656, loss_g: 0.826\n",
            "[60/200]: loss_d: 0.654, loss_g: 0.834\n",
            "[61/200]: loss_d: 0.655, loss_g: 0.834\n",
            "[62/200]: loss_d: 0.656, loss_g: 0.831\n",
            "[63/200]: loss_d: 0.656, loss_g: 0.830\n",
            "[64/200]: loss_d: 0.657, loss_g: 0.829\n",
            "[65/200]: loss_d: 0.657, loss_g: 0.828\n",
            "[66/200]: loss_d: 0.657, loss_g: 0.834\n",
            "[67/200]: loss_d: 0.658, loss_g: 0.823\n",
            "[68/200]: loss_d: 0.658, loss_g: 0.824\n",
            "[69/200]: loss_d: 0.657, loss_g: 0.831\n",
            "[70/200]: loss_d: 0.657, loss_g: 0.827\n",
            "[71/200]: loss_d: 0.657, loss_g: 0.829\n",
            "[72/200]: loss_d: 0.659, loss_g: 0.819\n",
            "[73/200]: loss_d: 0.659, loss_g: 0.818\n",
            "[74/200]: loss_d: 0.655, loss_g: 0.834\n",
            "[75/200]: loss_d: 0.658, loss_g: 0.823\n",
            "[76/200]: loss_d: 0.657, loss_g: 0.827\n",
            "[77/200]: loss_d: 0.656, loss_g: 0.831\n",
            "[78/200]: loss_d: 0.658, loss_g: 0.830\n",
            "[79/200]: loss_d: 0.655, loss_g: 0.840\n",
            "[80/200]: loss_d: 0.657, loss_g: 0.832\n",
            "[81/200]: loss_d: 0.657, loss_g: 0.824\n",
            "[82/200]: loss_d: 0.657, loss_g: 0.831\n",
            "[83/200]: loss_d: 0.658, loss_g: 0.824\n",
            "[84/200]: loss_d: 0.657, loss_g: 0.827\n",
            "[85/200]: loss_d: 0.655, loss_g: 0.834\n",
            "[86/200]: loss_d: 0.655, loss_g: 0.833\n",
            "[87/200]: loss_d: 0.654, loss_g: 0.840\n",
            "[88/200]: loss_d: 0.657, loss_g: 0.827\n",
            "[89/200]: loss_d: 0.661, loss_g: 0.819\n",
            "[90/200]: loss_d: 0.657, loss_g: 0.832\n",
            "[91/200]: loss_d: 0.658, loss_g: 0.828\n",
            "[92/200]: loss_d: 0.659, loss_g: 0.822\n",
            "[93/200]: loss_d: 0.659, loss_g: 0.824\n",
            "[94/200]: loss_d: 0.654, loss_g: 0.838\n",
            "[95/200]: loss_d: 0.658, loss_g: 0.826\n",
            "[96/200]: loss_d: 0.656, loss_g: 0.835\n",
            "[97/200]: loss_d: 0.655, loss_g: 0.835\n",
            "[98/200]: loss_d: 0.655, loss_g: 0.835\n",
            "[99/200]: loss_d: 0.655, loss_g: 0.835\n",
            "[100/200]: loss_d: 0.656, loss_g: 0.832\n",
            "[101/200]: loss_d: 0.656, loss_g: 0.835\n",
            "[102/200]: loss_d: 0.655, loss_g: 0.836\n",
            "[103/200]: loss_d: 0.655, loss_g: 0.836\n",
            "[104/200]: loss_d: 0.654, loss_g: 0.838\n",
            "[105/200]: loss_d: 0.655, loss_g: 0.837\n",
            "[106/200]: loss_d: 0.656, loss_g: 0.833\n",
            "[107/200]: loss_d: 0.653, loss_g: 0.845\n",
            "[108/200]: loss_d: 0.655, loss_g: 0.838\n",
            "[109/200]: loss_d: 0.658, loss_g: 0.832\n",
            "[110/200]: loss_d: 0.655, loss_g: 0.834\n",
            "[111/200]: loss_d: 0.655, loss_g: 0.840\n",
            "[112/200]: loss_d: 0.655, loss_g: 0.833\n",
            "[113/200]: loss_d: 0.657, loss_g: 0.833\n",
            "[114/200]: loss_d: 0.656, loss_g: 0.832\n",
            "[115/200]: loss_d: 0.656, loss_g: 0.836\n",
            "[116/200]: loss_d: 0.655, loss_g: 0.838\n",
            "[117/200]: loss_d: 0.653, loss_g: 0.841\n",
            "[118/200]: loss_d: 0.655, loss_g: 0.838\n",
            "[119/200]: loss_d: 0.654, loss_g: 0.844\n",
            "[120/200]: loss_d: 0.655, loss_g: 0.842\n",
            "[121/200]: loss_d: 0.655, loss_g: 0.839\n",
            "[122/200]: loss_d: 0.653, loss_g: 0.846\n",
            "[123/200]: loss_d: 0.655, loss_g: 0.835\n",
            "[124/200]: loss_d: 0.653, loss_g: 0.842\n",
            "[125/200]: loss_d: 0.655, loss_g: 0.840\n",
            "[126/200]: loss_d: 0.654, loss_g: 0.844\n",
            "[127/200]: loss_d: 0.653, loss_g: 0.847\n",
            "[128/200]: loss_d: 0.653, loss_g: 0.846\n",
            "[129/200]: loss_d: 0.652, loss_g: 0.851\n",
            "[130/200]: loss_d: 0.651, loss_g: 0.847\n",
            "[131/200]: loss_d: 0.651, loss_g: 0.852\n",
            "[132/200]: loss_d: 0.654, loss_g: 0.840\n",
            "[133/200]: loss_d: 0.654, loss_g: 0.845\n",
            "[134/200]: loss_d: 0.652, loss_g: 0.846\n",
            "[135/200]: loss_d: 0.653, loss_g: 0.843\n",
            "[136/200]: loss_d: 0.650, loss_g: 0.855\n",
            "[137/200]: loss_d: 0.651, loss_g: 0.850\n",
            "[138/200]: loss_d: 0.652, loss_g: 0.849\n",
            "[139/200]: loss_d: 0.652, loss_g: 0.848\n",
            "[140/200]: loss_d: 0.648, loss_g: 0.858\n",
            "[141/200]: loss_d: 0.652, loss_g: 0.849\n",
            "[142/200]: loss_d: 0.652, loss_g: 0.845\n",
            "[143/200]: loss_d: 0.652, loss_g: 0.851\n",
            "[144/200]: loss_d: 0.653, loss_g: 0.845\n",
            "[145/200]: loss_d: 0.651, loss_g: 0.845\n",
            "[146/200]: loss_d: 0.649, loss_g: 0.858\n",
            "[147/200]: loss_d: 0.651, loss_g: 0.852\n",
            "[148/200]: loss_d: 0.651, loss_g: 0.851\n",
            "[149/200]: loss_d: 0.651, loss_g: 0.853\n",
            "[150/200]: loss_d: 0.648, loss_g: 0.860\n",
            "[151/200]: loss_d: 0.651, loss_g: 0.853\n",
            "[152/200]: loss_d: 0.651, loss_g: 0.851\n",
            "[153/200]: loss_d: 0.652, loss_g: 0.854\n",
            "[154/200]: loss_d: 0.651, loss_g: 0.852\n",
            "[155/200]: loss_d: 0.650, loss_g: 0.855\n",
            "[156/200]: loss_d: 0.649, loss_g: 0.860\n",
            "[157/200]: loss_d: 0.650, loss_g: 0.856\n",
            "[158/200]: loss_d: 0.649, loss_g: 0.862\n",
            "[159/200]: loss_d: 0.650, loss_g: 0.858\n",
            "[160/200]: loss_d: 0.651, loss_g: 0.848\n",
            "[161/200]: loss_d: 0.651, loss_g: 0.851\n",
            "[162/200]: loss_d: 0.650, loss_g: 0.860\n",
            "[163/200]: loss_d: 0.651, loss_g: 0.854\n",
            "[164/200]: loss_d: 0.646, loss_g: 0.867\n",
            "[165/200]: loss_d: 0.651, loss_g: 0.854\n",
            "[166/200]: loss_d: 0.650, loss_g: 0.863\n",
            "[167/200]: loss_d: 0.648, loss_g: 0.866\n",
            "[168/200]: loss_d: 0.650, loss_g: 0.854\n",
            "[169/200]: loss_d: 0.649, loss_g: 0.861\n",
            "[170/200]: loss_d: 0.649, loss_g: 0.862\n",
            "[171/200]: loss_d: 0.648, loss_g: 0.864\n",
            "[172/200]: loss_d: 0.649, loss_g: 0.861\n",
            "[173/200]: loss_d: 0.649, loss_g: 0.859\n",
            "[174/200]: loss_d: 0.650, loss_g: 0.858\n",
            "[175/200]: loss_d: 0.647, loss_g: 0.867\n",
            "[176/200]: loss_d: 0.646, loss_g: 0.870\n",
            "[177/200]: loss_d: 0.650, loss_g: 0.859\n",
            "[178/200]: loss_d: 0.648, loss_g: 0.865\n",
            "[179/200]: loss_d: 0.647, loss_g: 0.864\n",
            "[180/200]: loss_d: 0.648, loss_g: 0.863\n",
            "[181/200]: loss_d: 0.646, loss_g: 0.869\n",
            "[182/200]: loss_d: 0.650, loss_g: 0.857\n",
            "[183/200]: loss_d: 0.648, loss_g: 0.864\n",
            "[184/200]: loss_d: 0.647, loss_g: 0.871\n",
            "[185/200]: loss_d: 0.650, loss_g: 0.858\n",
            "[186/200]: loss_d: 0.647, loss_g: 0.869\n",
            "[187/200]: loss_d: 0.644, loss_g: 0.875\n",
            "[188/200]: loss_d: 0.647, loss_g: 0.859\n",
            "[189/200]: loss_d: 0.647, loss_g: 0.867\n",
            "[190/200]: loss_d: 0.646, loss_g: 0.871\n",
            "[191/200]: loss_d: 0.647, loss_g: 0.869\n",
            "[192/200]: loss_d: 0.645, loss_g: 0.874\n",
            "[193/200]: loss_d: 0.646, loss_g: 0.873\n",
            "[194/200]: loss_d: 0.644, loss_g: 0.876\n",
            "[195/200]: loss_d: 0.647, loss_g: 0.867\n",
            "[196/200]: loss_d: 0.645, loss_g: 0.876\n",
            "[197/200]: loss_d: 0.645, loss_g: 0.873\n",
            "[198/200]: loss_d: 0.646, loss_g: 0.868\n",
            "[199/200]: loss_d: 0.646, loss_g: 0.870\n",
            "[200/200]: loss_d: 0.645, loss_g: 0.874\n"
          ]
        }
      ],
      "source": [
        "num_epoch = 200\n",
        "D_loss, G_loss = [], []\n",
        "for epoch in range(1, num_epoch+1):\n",
        "\n",
        "    D_losses_iter, G_losses_iter = [], []\n",
        "    for batch_idx, (x, _) in enumerate(train_loader):\n",
        "        tmp_loss_D, tmp_loss_G = train_GAN(x)\n",
        "        D_losses_iter.append(tmp_loss_D)\n",
        "        G_losses_iter.append(tmp_loss_G)\n",
        "\n",
        "    total_Loss_D = torch.mean(torch.FloatTensor(D_losses_iter))\n",
        "    D_loss.append(total_Loss_D)\n",
        "    total_Loss_G = torch.mean(torch.FloatTensor(G_losses_iter))\n",
        "    G_loss.append(total_Loss_G)\n",
        "    print('[{0:2d}/{1:2d}]: loss_d: {2:.3f}, loss_g: {3:.3f}'.format(\n",
        "            epoch, num_epoch, total_Loss_D, total_Loss_G))"
      ]
    },
    {
      "cell_type": "markdown",
      "metadata": {
        "id": "rXE2sO64AgTz"
      },
      "source": [
        "## Generating images\n",
        "\n",
        "Now that the model is trained, new samples can be easily generated."
      ]
    },
    {
      "cell_type": "code",
      "execution_count": 10,
      "metadata": {
        "colab": {
          "base_uri": "https://localhost:8080/",
          "height": 319
        },
        "id": "cUg2OP5XAgTz",
        "outputId": "8d928c33-51c4-4154-fb88-5d3115c1f951"
      },
      "outputs": [
        {
          "output_type": "stream",
          "name": "stderr",
          "text": [
            "WARNING:matplotlib.image:Clipping input data to the valid range for imshow with RGB data ([0..1] for floats or [0..255] for integers).\n"
          ]
        },
        {
          "output_type": "display_data",
          "data": {
            "text/plain": [
              "<Figure size 1500x1500 with 1 Axes>"
            ],
            "image/png": "[encoded data removed]"
          },
          "metadata": {}
        }
      ],
      "source": [
        "with torch.no_grad():\n",
        "    test_z = torch.randn(20, z_dim).to(device)\n",
        "    gen_imgs = GAN_G(test_z)\n",
        "    gen_imgs = gen_imgs.view(-1,1,28,28).to('cpu')\n",
        "\n",
        "    grid = torchvision.utils.make_grid(gen_imgs, nrow = 10)\n",
        "    plt.figure(figsize= (15,15))\n",
        "    plt.imshow(np.transpose(grid, (1,2,0)))"
      ]
    },
    {
      "cell_type": "code",
      "execution_count": null,
      "metadata": {
        "id": "J-AeQ82fAgTz"
      },
      "outputs": [],
      "source": []
    }
  ],
  "metadata": {
    "kernelspec": {
      "display_name": "Python 3",
      "language": "python",
      "name": "python3"
    },
    "language_info": {
      "codemirror_mode": {
        "name": "ipython",
        "version": 3
      },
      "file_extension": ".py",
      "mimetype": "text/x-python",
      "name": "python",
      "nbconvert_exporter": "python",
      "pygments_lexer": "ipython3",
      "version": "3.7.9"
    },
    "colab": {
      "provenance": []
    }
  },
  "nbformat": 4,
  "nbformat_minor": 0
}