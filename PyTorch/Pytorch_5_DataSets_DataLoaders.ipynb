{
  "cells": [
    {
      "cell_type": "markdown",
      "metadata": {
        "id": "7hhTWzprOPRZ"
      },
      "source": [
        "<img src=\"https://upload.wikimedia.org/wikipedia/commons/thumb/9/96/Pytorch_logo.png/800px-Pytorch_logo.png\" alt=\"alt text\" width=\"400\" height=\"100\">"
      ]
    },
    {
      "cell_type": "code",
      "execution_count": 17,
      "metadata": {
        "id": "KL2Ty9c4OPRa"
      },
      "outputs": [],
      "source": [
        "import torch\n",
        "import torchvision\n",
        "import torch.nn as nn\n",
        "from torch.utils.data import DataLoader\n",
        "from torch.utils.data.dataset import Dataset\n",
        "\n",
        "import time\n",
        "import numpy as np\n",
        "import matplotlib.pyplot as plt"
      ]
    },
    {
      "cell_type": "code",
      "execution_count": 18,
      "metadata": {
        "id": "N1zSgMZuOPRb"
      },
      "outputs": [],
      "source": [
        "class TwoClassData(Dataset):\n",
        "    def __init__(self, num_datapoints):\n",
        "        # Define the mean and covariance for two random data distributions\n",
        "        class_1_cov = torch.FloatTensor([[1.0, 0.25], [0.25, 1.4]])\n",
        "        class_1_mu = torch.FloatTensor([[1, -1.5]])\n",
        "\n",
        "        class_2_cov = torch.FloatTensor([[2, -0.5], [-0.5, 1]])\n",
        "        class_2_mu = torch.FloatTensor([[-2, -3]])\n",
        "\n",
        "        # Randomly Create the two data distributions\n",
        "        class_1_data = torch.randn(num_datapoints, 2)\n",
        "        class_1_data = torch.mm(class_1_data, class_1_cov) + class_1_mu\n",
        "\n",
        "        class_2_data = torch.randn(num_datapoints, 2)\n",
        "        class_2_data = torch.mm(class_2_data, class_2_cov) + class_2_mu\n",
        "\n",
        "        class_1_labels = torch.zeros(num_datapoints, 1)\n",
        "        class_2_labels = torch.ones(num_datapoints, 1)\n",
        "\n",
        "        self.data = torch.cat((class_1_data, class_2_data), 0)\n",
        "        self.labels = torch.cat((class_1_labels, class_2_labels), 0)\n",
        "\n",
        "        self.num_datapoints = num_datapoints\n",
        "\n",
        "    def __getitem__(self, index):\n",
        "        # This function is called by the dataLOADER class whenever it wants a new mini-batch\n",
        "        # The dataLOADER class will pass the dataSET and number of datapoint indexes (mini-batch of indexes)\n",
        "        # It is up to the dataSET's __getitem__ function to output the corresponding input datapoints\n",
        "        # AND the corresponding labels\n",
        "        # It is important to know that the input \"index\" is a single Python int, therefore the\n",
        "        # output of __getitem__ is a SINGLE datapoint with NO \"batch dimension\"\n",
        "\n",
        "        return self.data[index], self.labels[index]\n",
        "        # Note:Pytorch will actually pass the __getitem__ function one index at a time\n",
        "        # If use multiple dataLOADER \"workers\" multiple __getitem__ calls will be made in parallel\n",
        "        # (Pytorch will spawn multiple processes - usually not necessary for simple datasets, it is 0 by default)\n",
        "        # WARNING having workers > 0 on Window OS is buggy, so if using Windows and the dataLOADER gets\n",
        "        # stuck, make sure workers=0\n",
        "\n",
        "    def __len__(self):\n",
        "        # Specify a \"length\" function, Python will use this fuction whenever\n",
        "        # use the Python len(function) on the dataset\n",
        "        # Define it so the dataLOADER knows how big the dataSET is!\n",
        "        return 2 * self.num_datapoints"
      ]
    },
    {
      "cell_type": "code",
      "execution_count": 19,
      "metadata": {
        "id": "ycpu0DUHOPRb"
      },
      "outputs": [],
      "source": [
        "num_training_data = 1000\n",
        "num_validation_data = 500\n",
        "num_test_data = 200\n",
        "\n",
        "batch_size = 200\n",
        "\n",
        "#Create an instance of TwoClassData for the training and validation and test set\n",
        "dataset_train = TwoClassData(num_training_data)\n",
        "dataset_val = TwoClassData(num_validation_data)\n",
        "dataset_test  = TwoClassData(num_test_data)\n",
        "\n",
        "#Now pass the dataSET to the Pytorch dataLOADER class along with some other arguments\n",
        "#batch_size - the size of the mini-batches\n",
        "#shuffle - whether or not shuffle the dataset\n",
        "data_loader_train = DataLoader(dataset=dataset_train, batch_size=batch_size, shuffle=True)\n",
        "data_loader_val = DataLoader(dataset=dataset_val, batch_size=batch_size, shuffle=False)\n",
        "data_loader_test = DataLoader(dataset=dataset_test, batch_size=batch_size, shuffle=False)"
      ]
    },
    {
      "cell_type": "markdown",
      "metadata": {
        "id": "dvB0_1KZOPRb"
      },
      "source": [
        "The DataSET class is used by the DataLOADER to interface with the dataset, once pass it to the DataLoader rarely need to interact with it directly."
      ]
    },
    {
      "cell_type": "code",
      "execution_count": 20,
      "metadata": {
        "colab": {
          "base_uri": "https://localhost:8080/"
        },
        "id": "hIwn_MiDOPRb",
        "outputId": "9d7060aa-4555-428a-abdd-e43c0aa39bfe"
      },
      "outputs": [
        {
          "output_type": "stream",
          "name": "stdout",
          "text": [
            "Train DataSET size: 2000\n",
            "Val DataSET size: 1000\n",
            "Test DataSET size: 400\n"
          ]
        }
      ],
      "source": [
        "# The length of the dataset with be whatever returned in the __len__ method\n",
        "print(\"Train DataSET size:\", len(dataset_train))\n",
        "print(\"Val DataSET size:\", len(dataset_val))\n",
        "print(\"Test DataSET size:\", len(dataset_test))"
      ]
    },
    {
      "cell_type": "code",
      "execution_count": 21,
      "metadata": {
        "colab": {
          "base_uri": "https://localhost:8080/"
        },
        "id": "TGwPfO4HOPRb",
        "outputId": "c143ed0e-b9de-4613-ea7b-57901d0280ac"
      },
      "outputs": [
        {
          "output_type": "stream",
          "name": "stdout",
          "text": [
            "Train DataLOADER size: 10\n",
            "Val DataLOADER size: 5\n",
            "Test DataLOADER size: 2\n"
          ]
        }
      ],
      "source": [
        "# The length of the dataLOADER is the length of the dataSET divided by the batchsize!\n",
        "# it is the number of loops need to do per epoch.\n",
        "# If the length of the dataSET is not perfectly divisible by the batch size the DataLOADER will simply return the\n",
        "# \"leftovers\" in the last iteration, so the batch size of the last iteration might not equal the batch size!!\n",
        "# If simply skip this \"uneven\" batch, set the flag \"drop_last\" to True\n",
        "# when creating the DataLOADER\n",
        "print(\"Train DataLOADER size:\", len(data_loader_train))\n",
        "print(\"Val DataLOADER size:\", len(data_loader_val))\n",
        "print(\"Test DataLOADER size:\", len(data_loader_test))\n",
        "# Note: A larger batch size means less noisy gradients, but fewer gradient steps per epoch!"
      ]
    },
    {
      "cell_type": "code",
      "execution_count": 22,
      "metadata": {
        "colab": {
          "base_uri": "https://localhost:8080/"
        },
        "id": "p_Qhq_SWOPRb",
        "outputId": "92d4c8bd-b6a5-4fa8-c6d3-4b9595af246c"
      },
      "outputs": [
        {
          "output_type": "stream",
          "name": "stdout",
          "text": [
            "Input Data shape torch.Size([200, 2])\n",
            "Target Data shape torch.Size([200, 1])\n"
          ]
        }
      ],
      "source": [
        "# The DataLOADER will loop through a batch of indices and provide them to the dataSET one at a time\n",
        "# and will \"batch\" together all the datapoints along the \"batch dimension\" (dim 0) returning a single tensor\n",
        "train_data_iter = iter(data_loader_train)\n",
        "print(\"Input Data shape\", data.shape)\n",
        "print(\"Target Data shape\", labels.shape)"
      ]
    },
    {
      "cell_type": "code",
      "execution_count": 23,
      "metadata": {
        "id": "HJJS-1x0OPRc"
      },
      "outputs": [],
      "source": [
        "# These functions/methods do not change from before!\n",
        "def training_step(data_batch, target_batch, model, optimizer, loss_func):\n",
        "    target_pred = model(data_batch)\n",
        "    loss = loss_func(target_pred, target_batch)\n",
        "\n",
        "    optimizer.zero_grad()\n",
        "    loss.backward()\n",
        "    optimizer.step()\n",
        "\n",
        "    return loss.item()\n",
        "\n",
        "def eval_step(data_batch, target_batch, model):\n",
        "    with torch.no_grad():\n",
        "        target_pred = model(data_batch)\n",
        "        predictions = (target_pred >= 0)\n",
        "\n",
        "        num_correct = (predictions == target_batch).sum()\n",
        "\n",
        "        return num_correct.item()"
      ]
    },
    {
      "cell_type": "code",
      "execution_count": 24,
      "metadata": {
        "id": "HNvKXumGOPRc"
      },
      "outputs": [],
      "source": [
        "# Function to calulate the accuracy of the model for the given data and labels!\n",
        "def eval_loop(eval_dataloader, model):\n",
        "    total_correct = 0\n",
        "\n",
        "    # All need to do now is loop over the data loader\n",
        "    for data, target in eval_dataloader:\n",
        "        num_correct = eval_step(data, target, model)\n",
        "        total_correct += num_correct\n",
        "\n",
        "    return total_correct/len(eval_dataloader.dataset)\n",
        "\n",
        "\n",
        "# Function to perform the training loop\n",
        "def training_loop(train_dataloader, val_dataloader, model, optimizer, loss_func, num_epochs):\n",
        "\n",
        "    loss_logger = []\n",
        "    val_accuracy_logger = []\n",
        "    train_accuracy_logger = []\n",
        "\n",
        "    # A single loop over the whole dataset is called an \"epoch\"\n",
        "    for epoch in range(num_epochs):\n",
        "        val_acc = eval_loop(val_dataloader, model)\n",
        "        val_accuracy_logger.append(val_acc)\n",
        "\n",
        "        train_acc = eval_loop(train_dataloader, model)\n",
        "        train_accuracy_logger.append(train_acc)\n",
        "\n",
        "        # All need to do now is loop over the data loader\n",
        "        for data, target in train_dataloader:\n",
        "            # Loop over the mini batches and perform a step of gradient decent every time\n",
        "            loss = training_step(data, target, model, optimizer, loss_func)\n",
        "            loss_logger.append(loss)\n",
        "\n",
        "    return loss_logger, train_accuracy_logger, val_accuracy_logger"
      ]
    },
    {
      "cell_type": "code",
      "execution_count": 25,
      "metadata": {
        "id": "nVtSW1zAOPRc"
      },
      "outputs": [],
      "source": [
        "linear = nn.Linear(2, 1)\n",
        "loss_function = nn.BCEWithLogitsLoss()\n",
        "optimizer = torch.optim.SGD(linear.parameters(), lr=0.001)\n",
        "num_epochs = 400"
      ]
    },
    {
      "cell_type": "code",
      "execution_count": 26,
      "metadata": {
        "colab": {
          "base_uri": "https://localhost:8080/"
        },
        "id": "hKNVS2c_OPRc",
        "outputId": "feda5edf-3e24-4a92-9ca3-96957750907c"
      },
      "outputs": [
        {
          "output_type": "stream",
          "name": "stdout",
          "text": [
            "Traing for 400 epochs with a batch size of 200 took 16.37 seconds\n"
          ]
        }
      ],
      "source": [
        "start_time = time.time()\n",
        "loss_logger, train_acc, val_acc = training_loop(data_loader_train, data_loader_val, linear, optimizer,\n",
        "                                                loss_function, num_epochs=num_epochs)\n",
        "\n",
        "print(\"Traing for %d epochs with a batch size of %d took %.2f seconds\" %\n",
        "      (num_epochs, batch_size, time.time() - start_time))"
      ]
    },
    {
      "cell_type": "code",
      "execution_count": 27,
      "metadata": {
        "colab": {
          "base_uri": "https://localhost:8080/",
          "height": 452
        },
        "id": "-8TVCd0cOPRc",
        "outputId": "d962c814-e2dc-42b4-d1bf-b51114a7ac58"
      },
      "outputs": [
        {
          "output_type": "display_data",
          "data": {
            "text/plain": [
              "<Figure size 640x480 with 1 Axes>"
            ],
            "image/png": "[encoded data removed]"
          },
          "metadata": {}
        }
      ],
      "source": [
        "plt.plot(loss_logger)\n",
        "_ = plt.title(\"Training Loss\")"
      ]
    },
    {
      "cell_type": "code",
      "execution_count": 28,
      "metadata": {
        "colab": {
          "base_uri": "https://localhost:8080/",
          "height": 469
        },
        "id": "tucOyBgIOPRc",
        "outputId": "4dce54c9-1984-4a48-ce02-4e302274dd47"
      },
      "outputs": [
        {
          "output_type": "execute_result",
          "data": {
            "text/plain": [
              "<matplotlib.legend.Legend at 0x7f84050a92d0>"
            ]
          },
          "metadata": {},
          "execution_count": 28
        },
        {
          "output_type": "display_data",
          "data": {
            "text/plain": [
              "<Figure size 640x480 with 1 Axes>"
            ],
            "image/png": "[encoded data removed]"
          },
          "metadata": {}
        }
      ],
      "source": [
        "plt.plot(train_acc)\n",
        "plt.plot(val_acc)\n",
        "_ = plt.title(\"Training and Validation Accuracy\")\n",
        "plt.legend([\"Train\", \"Validation\"])"
      ]
    },
    {
      "cell_type": "code",
      "execution_count": 29,
      "metadata": {
        "colab": {
          "base_uri": "https://localhost:8080/"
        },
        "id": "bJXP9hK0OPRc",
        "outputId": "0bc4deb1-2c50-4ce2-c065-036d4fcf9ea5"
      },
      "outputs": [
        {
          "output_type": "stream",
          "name": "stdout",
          "text": [
            "Test Accuracy is 88.00%\n"
          ]
        }
      ],
      "source": [
        "test_accuracy = eval_loop(data_loader_test, linear)\n",
        "print(\"Test Accuracy is %.2f%%\" % (100 * test_accuracy))"
      ]
    }
  ],
  "metadata": {
    "kernelspec": {
      "display_name": "Python 3",
      "language": "python",
      "name": "python3"
    },
    "language_info": {
      "codemirror_mode": {
        "name": "ipython",
        "version": 3
      },
      "file_extension": ".py",
      "mimetype": "text/x-python",
      "name": "python",
      "nbconvert_exporter": "python",
      "pygments_lexer": "ipython3",
      "version": "3.6.9"
    },
    "colab": {
      "provenance": []
    }
  },
  "nbformat": 4,
  "nbformat_minor": 0
}