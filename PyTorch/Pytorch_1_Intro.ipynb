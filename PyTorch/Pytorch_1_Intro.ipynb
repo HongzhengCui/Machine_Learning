{
  "cells": [
    {
      "cell_type": "markdown",
      "metadata": {
        "id": "wjTi-qCzW8AB"
      },
      "source": [
        "<img src=\"https://upload.wikimedia.org/wikipedia/commons/thumb/9/96/Pytorch_logo.png/800px-Pytorch_logo.png\" alt=\"alt text\" width=\"400\" height=\"100\">\n"
      ]
    },
    {
      "cell_type": "markdown",
      "metadata": {
        "id": "UWbRl-cWW8AC"
      },
      "source": [
        "<h2>Introduction</h2>\n",
        "For this unit, we will be using Pytorch, a powerful and widely used Deep Learning framework that lets us create larger and more complicated networks, use complicated loss functions, and train with more complicated training regimes, etc."
      ]
    },
    {
      "cell_type": "markdown",
      "metadata": {
        "id": "pZBi_S2JW8AC"
      },
      "source": [
        "<h3> Installing PyTorch and importing the required libraries </h3>\n",
        "Before we start, PyTorch need to be installed from the official website (https://pytorch.org/get-started/locally/)<br>\n",
        "Pytorch has two main modules that we'll be using, torch and torchvision<br>\n",
        "torch contains most of the Deep Learning functionalities while torchvision contains many computer vision functions designed to work in hand with torch"
      ]
    },
    {
      "cell_type": "code",
      "execution_count": null,
      "metadata": {
        "id": "mAssYpiOW8AC"
      },
      "outputs": [],
      "source": [
        "# ! pip3 install torch torchvision torchaudio --index-url https://download.pytorch.org/whl/cu117"
      ]
    },
    {
      "cell_type": "code",
      "execution_count": null,
      "metadata": {
        "id": "oZXGQ7T9W8AD"
      },
      "outputs": [],
      "source": [
        "import torch\n",
        "import torchvision\n",
        "import torch.nn as nn\n",
        "import numpy as np\n",
        "import matplotlib.pyplot as plt"
      ]
    },
    {
      "cell_type": "markdown",
      "metadata": {
        "id": "sIbJVKQ-W8AD"
      },
      "source": [
        "<h3> The Pytorch Tensor </h3>\n",
        "As we've already explored the \"Tensor\" is a useful concept and is useful in Machine Learning.<br>"
      ]
    },
    {
      "cell_type": "code",
      "execution_count": null,
      "metadata": {
        "id": "dz48eZYtW8AD"
      },
      "outputs": [],
      "source": [
        "# Create some \"Matrices\" as lists of lists\n",
        "\n",
        "w = [[1, 1, 1],\n",
        "     [1.5, 1.5, 1.5],\n",
        "     [2, 2, 2]]\n",
        "\n",
        "x = [[6], [7], [8]]\n",
        "b = [[1], [1], [1]]"
      ]
    },
    {
      "cell_type": "markdown",
      "metadata": {
        "id": "OsIQ8czWW8AD"
      },
      "source": [
        "As we've seen before"
      ]
    },
    {
      "cell_type": "code",
      "execution_count": null,
      "metadata": {
        "colab": {
          "base_uri": "https://localhost:8080/"
        },
        "id": "4JRmA3ZOW8AD",
        "outputId": "cc2f73ce-aa0c-4bd0-8074-68629ed0df7d"
      },
      "outputs": [
        {
          "output_type": "stream",
          "name": "stdout",
          "text": [
            "Output:\n",
            " [[22. ]\n",
            " [32.5]\n",
            " [43. ]]\n",
            "Output shape:\n",
            " (3, 1)\n"
          ]
        }
      ],
      "source": [
        "# We can transform our list of lists into a \"numpy array\" by using the function \"array\"\n",
        "w_np = np.array(w)\n",
        "x_np = np.array(x)\n",
        "\n",
        "# lets use the function \"ones\" to create an array of ones\n",
        "b_np = np.ones((3, 1))\n",
        "\n",
        "# Lets now compute Wx + b using these numpy variables\n",
        "output = np.matmul(w_np, x_np) + b_np\n",
        "\n",
        "#print out the result\n",
        "print(\"Output:\\n\", output)\n",
        "print(\"Output shape:\\n\", output.shape)"
      ]
    },
    {
      "cell_type": "markdown",
      "metadata": {
        "id": "mxDwYzdlW8AE"
      },
      "source": [
        "Now in Pytorch, we can transform our list of lists into a \"torch tensor\" by using the function \"FloatTensor\""
      ]
    },
    {
      "cell_type": "code",
      "execution_count": null,
      "metadata": {
        "colab": {
          "base_uri": "https://localhost:8080/"
        },
        "id": "08E8sex-W8AE",
        "outputId": "562a93c9-0b8e-4606-e242-4aaf2c3fbd04"
      },
      "outputs": [
        {
          "output_type": "stream",
          "name": "stdout",
          "text": [
            "Output:\n",
            " tensor([[22.0000],\n",
            "        [32.5000],\n",
            "        [43.0000]])\n",
            "Output shape:\n",
            " torch.Size([3, 1])\n"
          ]
        }
      ],
      "source": [
        "w_torch = torch.FloatTensor(w)\n",
        "\n",
        "x_torch = torch.FloatTensor(x)\n",
        "# Use the function \"ones\" to create an array of ones\n",
        "b_torch = torch.ones(3, 1)\n",
        "\n",
        "# Compute Wx + b using these numpy variables\n",
        "output = torch.matmul(w_torch, x_torch) + b_torch\n",
        "\n",
        "print(\"Output:\\n\", output)\n",
        "print(\"Output shape:\\n\", output.shape)"
      ]
    },
    {
      "cell_type": "markdown",
      "metadata": {
        "id": "vJIKBvXWW8AE"
      },
      "source": [
        "Numpy and Pytorch are remarkably similar, and there are even functions that can transfer Pytorch tensors to Numpy arrays and back"
      ]
    },
    {
      "cell_type": "code",
      "execution_count": null,
      "metadata": {
        "colab": {
          "base_uri": "https://localhost:8080/"
        },
        "id": "GJI_HuhZW8AE",
        "outputId": "28e80b5a-736b-4489-da6c-033567386cfb"
      },
      "outputs": [
        {
          "output_type": "stream",
          "name": "stdout",
          "text": [
            "Numpy array:\n",
            " [[0.15741306 0.87388362 0.37357972 0.07773311]\n",
            " [0.25160929 0.69375321 0.74990351 0.42080679]\n",
            " [0.47944401 0.2377635  0.80346587 0.84587835]]\n",
            "Pytorch tensor:\n",
            " tensor([[0.1574, 0.8739, 0.3736, 0.0777],\n",
            "        [0.2516, 0.6938, 0.7499, 0.4208],\n",
            "        [0.4794, 0.2378, 0.8035, 0.8459]])\n",
            "Numpy array:\n",
            " [[0.15741307 0.8738836  0.3735797  0.07773311]\n",
            " [0.2516093  0.69375324 0.7499035  0.4208068 ]\n",
            " [0.479444   0.23776351 0.8034659  0.84587836]]\n"
          ]
        }
      ],
      "source": [
        "# Create a random Numpy array\n",
        "np_array = np.random.random((3, 4))\n",
        "print(\"Numpy array:\\n\", np_array)\n",
        "\n",
        "# Convert to Pytorch tensor\n",
        "torch_tensor = torch.FloatTensor(np_array)\n",
        "print(\"Pytorch tensor:\\n\", torch_tensor)\n",
        "\n",
        "# Convert back to a Numpy array\n",
        "np_array2 = torch_tensor.numpy()\n",
        "print(\"Numpy array:\\n\", np_array2)"
      ]
    },
    {
      "cell_type": "markdown",
      "metadata": {
        "id": "XnaB8k8hW8AE"
      },
      "source": [
        "<h3> Basic Element-wise Operations </h3>\n",
        "Let's quickly go back over some basics using Pytorch"
      ]
    },
    {
      "cell_type": "code",
      "execution_count": null,
      "metadata": {
        "colab": {
          "base_uri": "https://localhost:8080/"
        },
        "id": "axHzT0TuW8AE",
        "outputId": "74c011f6-8cea-4314-d64c-dbf0c9b1242b"
      },
      "outputs": [
        {
          "output_type": "stream",
          "name": "stdout",
          "text": [
            "The oringinal tensor:\n",
            " tensor([[0.8208, 0.2480, 0.5147, 0.4757, 0.8173],\n",
            "        [0.1164, 0.0935, 0.1349, 0.5842, 0.5988],\n",
            "        [0.7950, 0.1324, 0.9154, 0.5511, 0.6940],\n",
            "        [0.2515, 0.1406, 0.2068, 0.4856, 0.4626]])\n",
            "\n",
            "Scalar multiplication:\n",
            " tensor([[8.2080, 2.4801, 5.1468, 4.7572, 8.1726],\n",
            "        [1.1638, 0.9351, 1.3485, 5.8424, 5.9881],\n",
            "        [7.9497, 1.3239, 9.1542, 5.5107, 6.9404],\n",
            "        [2.5152, 1.4058, 2.0677, 4.8555, 4.6255]])\n",
            "Addition and square:\n",
            " tensor([[3.3153, 1.5575, 2.2942, 2.1778, 3.3024],\n",
            "        [1.2463, 1.1958, 1.2879, 2.5098, 2.5562],\n",
            "        [3.2219, 1.2823, 3.6688, 2.4058, 2.8698],\n",
            "        [1.5663, 1.3009, 1.4563, 2.2069, 2.1391]])\n",
            "Addition:\n",
            " tensor([[1.6416, 0.4960, 1.0294, 0.9514, 1.6345],\n",
            "        [0.2328, 0.1870, 0.2697, 1.1685, 1.1976],\n",
            "        [1.5899, 0.2648, 1.8308, 1.1021, 1.3881],\n",
            "        [0.5030, 0.2812, 0.4135, 0.9711, 0.9251]])\n",
            "Addition and division:\n",
            " tensor([[0.4508, 0.1987, 0.3398, 0.3224, 0.4497],\n",
            "        [0.1042, 0.0855, 0.1188, 0.3688, 0.3745],\n",
            "        [0.4429, 0.1169, 0.4779, 0.3553, 0.4097],\n",
            "        [0.2010, 0.1233, 0.1713, 0.3268, 0.3163]])\n",
            "\n",
            "Power and square root:\n",
            " tensor([[0.8208, 0.2480, 0.5147, 0.4757, 0.8173],\n",
            "        [0.1164, 0.0935, 0.1349, 0.5842, 0.5988],\n",
            "        [0.7950, 0.1324, 0.9154, 0.5511, 0.6940],\n",
            "        [0.2515, 0.1406, 0.2068, 0.4856, 0.4626]])\n",
            "\n",
            "Min:0.09\n",
            "Max:0.92\n",
            "Standard deviation:0.27\n",
            "Sum:9.04\n"
          ]
        }
      ],
      "source": [
        "# Create a 2D Tensor using torch.rand\n",
        "y = torch.rand(4, 5)\n",
        "print(\"The oringinal tensor:\\n\",y)\n",
        "\n",
        "# Perform normal python scalar arithmetic on Torch tensors\n",
        "print(\"\\nScalar multiplication:\\n\", y*10)\n",
        "print(\"Addition and square:\\n\", (y+1)**2)\n",
        "print(\"Addition:\\n\", y+y)\n",
        "print(\"Addition and division:\\n\", y/(y + 1))\n",
        "\n",
        "# Use a combination of Torch functions and normal python arithmetic\n",
        "print(\"\\nPower and square root:\\n\", torch.sqrt(y**2))\n",
        "\n",
        "# Torch tensors are objects and have functions\n",
        "print(\"\\nMin:%.2f\\nMax:%.2f\\nStandard deviation:%.2f\\nSum:%.2f\" %(y.min(), y.max(), y.std(), y.sum()))"
      ]
    },
    {
      "cell_type": "markdown",
      "metadata": {
        "id": "Q77E9SyuW8AE"
      },
      "source": [
        "<h3>Tensor Opperations</h3>"
      ]
    },
    {
      "cell_type": "code",
      "execution_count": null,
      "metadata": {
        "colab": {
          "base_uri": "https://localhost:8080/"
        },
        "id": "D7anyde1W8AF",
        "outputId": "cd4a24fe-99ab-400e-d81e-98f946dd6033"
      },
      "outputs": [
        {
          "output_type": "stream",
          "name": "stdout",
          "text": [
            "Addition:\n",
            " tensor([[[0.4957, 1.2793, 0.8463],\n",
            "         [1.0243, 1.5724, 0.5925],\n",
            "         [1.2601, 0.8880, 0.8612]],\n",
            "\n",
            "        [[1.3896, 0.8035, 0.8057],\n",
            "         [0.6778, 1.4245, 0.4301],\n",
            "         [0.3219, 0.6247, 0.9150]],\n",
            "\n",
            "        [[1.3032, 0.1968, 1.5651],\n",
            "         [0.7683, 0.8789, 0.7682],\n",
            "         [0.8048, 0.9159, 0.6889]]])\n",
            "\n",
            "Batch Multiplication:\n",
            " tensor([[[0.4536, 0.6784, 0.4774],\n",
            "         [0.9228, 0.8146, 0.5303],\n",
            "         [0.8428, 1.2587, 0.8741]],\n",
            "\n",
            "        [[0.5592, 0.7538, 0.4720],\n",
            "         [0.3895, 0.8824, 0.4991],\n",
            "         [0.2057, 0.5040, 0.3769]],\n",
            "\n",
            "        [[0.6697, 0.6983, 0.4524],\n",
            "         [0.8523, 0.7800, 0.5742],\n",
            "         [0.6162, 0.4683, 0.4406]]])\n"
          ]
        }
      ],
      "source": [
        "# Create two 3D Tensors\n",
        "tensor_1 = torch.rand(3, 3, 3)\n",
        "tensor_2 = torch.rand(3, 3, 3)\n",
        "\n",
        "# Add the 2 Tensors\n",
        "print(\"Addition:\\n\", tensor_1+tensor_2)\n",
        "\n",
        "# We cannot perform a normal \"matrix\" multiplication on a 3D tensor\n",
        "# But we can treat the 3D tensor as a \"batch\" (like a stack) of 2D tensors\n",
        "# And perform normal matrix multiplication independently on each pair of 2D matrices\n",
        "print(\"\\nBatch Multiplication:\\n\", torch.bmm(tensor_1, tensor_2))"
      ]
    },
    {
      "cell_type": "code",
      "execution_count": null,
      "metadata": {
        "colab": {
          "base_uri": "https://localhost:8080/"
        },
        "id": "jK9RG1PJW8AF",
        "outputId": "d44c7b37-262b-487b-d68b-bac3baf6467e"
      },
      "outputs": [
        {
          "output_type": "stream",
          "name": "stdout",
          "text": [
            "The origional Tensor is is:\n",
            " tensor([[[0.2622, 0.3477, 0.1848, 0.0586, 0.8536],\n",
            "         [0.3327, 0.0313, 0.9023, 0.4138, 0.5893],\n",
            "         [0.8385, 0.4625, 0.3123, 0.0438, 0.3486],\n",
            "         [0.5705, 0.2921, 0.7300, 0.7977, 0.1310]],\n",
            "\n",
            "        [[0.8650, 0.3418, 0.6388, 0.8385, 0.6662],\n",
            "         [0.5966, 0.5033, 0.3794, 0.9809, 0.0764],\n",
            "         [0.8377, 0.2733, 0.8038, 0.4029, 0.5449],\n",
            "         [0.0621, 0.4857, 0.9939, 0.3764, 0.8061]]])\n",
            "With shape:\n",
            " torch.Size([2, 4, 5])\n",
            "\n",
            "The Re-arranged is:\n",
            " tensor([[[0.2622, 0.8650],\n",
            "         [0.3327, 0.5966],\n",
            "         [0.8385, 0.8377],\n",
            "         [0.5705, 0.0621]],\n",
            "\n",
            "        [[0.3477, 0.3418],\n",
            "         [0.0313, 0.5033],\n",
            "         [0.4625, 0.2733],\n",
            "         [0.2921, 0.4857]],\n",
            "\n",
            "        [[0.1848, 0.6388],\n",
            "         [0.9023, 0.3794],\n",
            "         [0.3123, 0.8038],\n",
            "         [0.7300, 0.9939]],\n",
            "\n",
            "        [[0.0586, 0.8385],\n",
            "         [0.4138, 0.9809],\n",
            "         [0.0438, 0.4029],\n",
            "         [0.7977, 0.3764]],\n",
            "\n",
            "        [[0.8536, 0.6662],\n",
            "         [0.5893, 0.0764],\n",
            "         [0.3486, 0.5449],\n",
            "         [0.1310, 0.8061]]])\n",
            "With shape:\n",
            " torch.Size([5, 4, 2])\n"
          ]
        }
      ],
      "source": [
        "tensor_3 = torch.rand(2, 4, 5)\n",
        "print(\"The origional Tensor is is:\\n\", tensor_3)\n",
        "print(\"With shape:\\n\", tensor_3.shape)\n",
        "\n",
        "# Swap the Tensor dimensions by tranpose\n",
        "print(\"\\nThe Re-arranged is:\\n\", tensor_3.transpose(0, 2))\n",
        "print(\"With shape:\\n\", tensor_3.transpose(0, 2).shape)"
      ]
    },
    {
      "cell_type": "markdown",
      "metadata": {
        "id": "kDgrB-DmW8AF"
      },
      "source": [
        "<h3> Indexing </h3>\n",
        "Indexing in Pytorch works the same as it does in Numpy"
      ]
    },
    {
      "cell_type": "code",
      "execution_count": null,
      "metadata": {
        "colab": {
          "base_uri": "https://localhost:8080/"
        },
        "id": "Xjqm52OYW8AF",
        "outputId": "bacced3a-2267-4859-c89c-e7f3b3253d02"
      },
      "outputs": [
        {
          "output_type": "stream",
          "name": "stdout",
          "text": [
            "Our Tensor:\n",
            " tensor([[[[0.5674, 0.3731, 0.7980, 0.9633]],\n",
            "\n",
            "         [[0.6925, 0.0448, 0.5370, 0.4065]],\n",
            "\n",
            "         [[0.3972, 0.4640, 0.6105, 0.2099]]],\n",
            "\n",
            "\n",
            "        [[[0.2392, 0.7082, 0.1807, 0.5954]],\n",
            "\n",
            "         [[0.4030, 0.5686, 0.2800, 0.8596]],\n",
            "\n",
            "         [[0.8794, 0.2285, 0.6112, 0.6721]]]])\n",
            "\n",
            "The last element of dim0:\n",
            " tensor([[[0.2392, 0.7082, 0.1807, 0.5954]],\n",
            "\n",
            "        [[0.4030, 0.5686, 0.2800, 0.8596]],\n",
            "\n",
            "        [[0.8794, 0.2285, 0.6112, 0.6721]]])\n",
            "\n",
            "Indexed elements:\n",
            " tensor([[0.6925, 0.0448, 0.5370, 0.4065]])\n",
            "\n",
            "Indexed elements:\n",
            " tensor([0.5370, 0.2800])\n"
          ]
        }
      ],
      "source": [
        "# Create a 4D Tensor\n",
        "tensor = torch.rand(2, 3, 1, 4)\n",
        "print(\"Our Tensor:\\n\", tensor)\n",
        "\n",
        "# Select the last element of dim0\n",
        "print(\"\\nThe last element of dim0:\\n\", tensor[-1])\n",
        "\n",
        "# 1st element of dim0\n",
        "# 2nd element of dim1\n",
        "print(\"\\nIndexed elements:\\n\", tensor[0, 1])\n",
        "\n",
        "# Select all elements of dim0\n",
        "# The 2nd element of dim1\n",
        "# The 1st element of dim2\n",
        "# The 3rd element of dim3\n",
        "print(\"\\nIndexed elements:\\n\", tensor[:, 1, 0, 2])"
      ]
    },
    {
      "cell_type": "markdown",
      "metadata": {
        "id": "S27klGQ4W8AF"
      },
      "source": [
        "<h3> Describing Tensors </h3> <br>"
      ]
    },
    {
      "cell_type": "code",
      "execution_count": null,
      "metadata": {
        "colab": {
          "base_uri": "https://localhost:8080/"
        },
        "id": "c3xcHvFiW8AF",
        "outputId": "e5a2d4a3-fa26-469b-cd44-8cbc8a3dd72b"
      },
      "outputs": [
        {
          "output_type": "stream",
          "name": "stdout",
          "text": [
            "The Tensor's shape is: torch.Size([3, 5, 3, 2])\n",
            "The Tensor's shape using size() is: torch.Size([3, 5, 3, 2])\n",
            "There are 90 elements in total:\n",
            "There are 4 Dimensions\n"
          ]
        }
      ],
      "source": [
        "# Create a large 4D Tensor\n",
        "tensor = torch.rand(3, 5, 3, 2)\n",
        "\n",
        "# View the Number of elements in every dimension\n",
        "print(\"The Tensor's shape is:\", tensor.shape)\n",
        "\n",
        "# In Pytorch shape and size() do the same thing\n",
        "print(\"The Tensor's shape using size() is:\", tensor.size())\n",
        "\n",
        "# View the number of elements in total\n",
        "print(\"There are %d elements in total:\" % tensor.numel())\n",
        "\n",
        "# View the number of Dimensions\n",
        "print(\"There are %d Dimensions\" % (tensor.ndim))"
      ]
    },
    {
      "cell_type": "markdown",
      "metadata": {
        "id": "0RHZ19vAW8AF"
      },
      "source": [
        "<h3> Reshaping </h3> <br>\n",
        "We can change a Tensor to one of the same size (same number of elements) but a different shape by using functions in a similar fashion to Numpy but with different functions"
      ]
    },
    {
      "cell_type": "code",
      "execution_count": null,
      "metadata": {
        "colab": {
          "base_uri": "https://localhost:8080/"
        },
        "id": "fkK7ytVRW8AF",
        "outputId": "52ea9872-d850-48a1-a099-bbc35017b866"
      },
      "outputs": [
        {
          "output_type": "stream",
          "name": "stdout",
          "text": [
            "Reshape to 3x30:\n",
            " tensor([[4.6263e-01, 5.7795e-01, 1.3819e-01, 5.0860e-01, 5.2468e-01, 4.7115e-01,\n",
            "         1.5116e-01, 3.8452e-01, 8.3929e-01, 4.0662e-01, 6.4000e-01, 9.5696e-01,\n",
            "         8.6716e-01, 7.1847e-01, 3.6321e-01, 8.7999e-01, 4.0948e-01, 5.0009e-01,\n",
            "         5.0053e-01, 3.9054e-01, 4.7285e-01, 1.8597e-01, 1.0031e-01, 7.1132e-04,\n",
            "         4.7580e-02, 4.4812e-01, 1.3122e-01, 3.0948e-01, 3.6806e-01, 5.9454e-01],\n",
            "        [7.4092e-01, 2.6025e-01, 4.5329e-02, 1.7739e-02, 3.6678e-01, 1.6152e-01,\n",
            "         5.1259e-01, 6.6511e-01, 7.4218e-01, 5.3743e-01, 9.9052e-01, 4.5148e-01,\n",
            "         7.4745e-02, 6.6000e-01, 6.2849e-01, 6.6434e-01, 4.1755e-01, 1.7683e-01,\n",
            "         9.1341e-02, 6.0671e-01, 1.4684e-01, 6.5114e-01, 1.1563e-01, 1.1643e-01,\n",
            "         6.0052e-01, 9.5009e-01, 6.5119e-01, 7.1815e-01, 7.7227e-01, 8.8426e-01],\n",
            "        [2.3314e-03, 9.3050e-01, 4.5036e-01, 3.5126e-01, 6.8385e-01, 3.1849e-01,\n",
            "         2.2203e-02, 5.6852e-01, 3.2528e-01, 8.5469e-01, 1.2040e-01, 8.3745e-01,\n",
            "         6.5031e-01, 4.4218e-01, 5.7933e-01, 3.2610e-01, 6.6322e-02, 7.0843e-01,\n",
            "         3.6825e-01, 4.9309e-01, 2.5434e-01, 2.3033e-01, 6.0178e-01, 1.0600e-01,\n",
            "         6.6497e-01, 5.1825e-01, 2.0023e-01, 1.4718e-02, 9.5580e-01, 2.5285e-02]])\n",
            "\n",
            "Flatten to a 1D Tensor:\n",
            " tensor([4.6263e-01, 5.7795e-01, 1.3819e-01, 5.0860e-01, 5.2468e-01, 4.7115e-01,\n",
            "        1.5116e-01, 3.8452e-01, 8.3929e-01, 4.0662e-01, 6.4000e-01, 9.5696e-01,\n",
            "        8.6716e-01, 7.1847e-01, 3.6321e-01, 8.7999e-01, 4.0948e-01, 5.0009e-01,\n",
            "        5.0053e-01, 3.9054e-01, 4.7285e-01, 1.8597e-01, 1.0031e-01, 7.1132e-04,\n",
            "        4.7580e-02, 4.4812e-01, 1.3122e-01, 3.0948e-01, 3.6806e-01, 5.9454e-01,\n",
            "        7.4092e-01, 2.6025e-01, 4.5329e-02, 1.7739e-02, 3.6678e-01, 1.6152e-01,\n",
            "        5.1259e-01, 6.6511e-01, 7.4218e-01, 5.3743e-01, 9.9052e-01, 4.5148e-01,\n",
            "        7.4745e-02, 6.6000e-01, 6.2849e-01, 6.6434e-01, 4.1755e-01, 1.7683e-01,\n",
            "        9.1341e-02, 6.0671e-01, 1.4684e-01, 6.5114e-01, 1.1563e-01, 1.1643e-01,\n",
            "        6.0052e-01, 9.5009e-01, 6.5119e-01, 7.1815e-01, 7.7227e-01, 8.8426e-01,\n",
            "        2.3314e-03, 9.3050e-01, 4.5036e-01, 3.5126e-01, 6.8385e-01, 3.1849e-01,\n",
            "        2.2203e-02, 5.6852e-01, 3.2528e-01, 8.5469e-01, 1.2040e-01, 8.3745e-01,\n",
            "        6.5031e-01, 4.4218e-01, 5.7933e-01, 3.2610e-01, 6.6322e-02, 7.0843e-01,\n",
            "        3.6825e-01, 4.9309e-01, 2.5434e-01, 2.3033e-01, 6.0178e-01, 1.0600e-01,\n",
            "        6.6497e-01, 5.1825e-01, 2.0023e-01, 1.4718e-02, 9.5580e-01, 2.5285e-02])\n"
          ]
        }
      ],
      "source": [
        "# Reshape our Tensor to a 2D Tensor\n",
        "print(\"Reshape to 3x30:\\n\", tensor.reshape(3, 30))\n",
        "\n",
        "# We can also use the Flatten method to convert to a 1D Tensor\n",
        "print(\"\\nFlatten to a 1D Tensor:\\n\",tensor.flatten())"
      ]
    },
    {
      "cell_type": "markdown",
      "metadata": {
        "id": "NY5ddg4-W8AF"
      },
      "source": [
        "<h4>Squeezing and Unsqueezing </h4>\n",
        "A very common shape-changing operation is to add an \"empty\" dimension to ensure the shape (specifically the number of dimensions) of the tensor is correct for certain functions. <br>\n",
        "For example, when we start using Pytorch Neural Network modules, we need to provide the input of the network with a \"batch\" dimension (we often pass multiple inputs to our network at once) even if we only pass 1 datapoint"
      ]
    },
    {
      "cell_type": "code",
      "execution_count": null,
      "metadata": {
        "colab": {
          "base_uri": "https://localhost:8080/"
        },
        "id": "rtKI6hEfW8AF",
        "outputId": "aa8d5fba-40e3-487d-ca7d-00b99c97e883"
      },
      "outputs": [
        {
          "output_type": "stream",
          "name": "stdout",
          "text": [
            "The Tensors shape is: torch.Size([3, 2])\n",
            "Add an empty dimenson to dim3: torch.Size([3, 2, 1])\n",
            "Add an empty dimenson to dim2: torch.Size([3, 1, 2])\n"
          ]
        }
      ],
      "source": [
        "# Create a 2D Tensor\n",
        "tensor = torch.rand(3, 2)\n",
        "\n",
        "# View the Number of elements in every dimension\n",
        "print(\"The Tensors shape is:\", tensor.shape)\n",
        "\n",
        "# Unsqueeze adds an \"empty\" dimension to our Tensor\n",
        "print(\"Add an empty dimenson to dim3:\", tensor.unsqueeze(2).shape)\n",
        "\n",
        "# Unsqueeze adds an \"empty\" dimension to our Tensor\n",
        "print(\"Add an empty dimenson to dim2:\", tensor.unsqueeze(1).shape)"
      ]
    },
    {
      "cell_type": "code",
      "execution_count": null,
      "metadata": {
        "colab": {
          "base_uri": "https://localhost:8080/"
        },
        "id": "GsBNP8rGW8AF",
        "outputId": "eb59fca3-c8af-4132-ed0e-ad8bdcafff77"
      },
      "outputs": [
        {
          "output_type": "stream",
          "name": "stdout",
          "text": [
            "The Tensor's shape is: torch.Size([1, 3, 1, 2])\n",
            "Remove empty dimenson dim3: torch.Size([1, 3, 2])\n",
            "Remove empty dimenson dim0: torch.Size([3, 1, 2])\n",
            "Remove all empty dimensons: torch.Size([3, 2])\n"
          ]
        }
      ],
      "source": [
        "# Lets create a 4D Tensor with a few \"empty\" dimensions\n",
        "tensor = torch.rand(1, 3, 1, 2)\n",
        "\n",
        "# View the Number of elements in every dimension\n",
        "print(\"The Tensor's shape is:\", tensor.shape)\n",
        "\n",
        "# Squeeze removes an \"empty\" dimension from our Tensor\n",
        "print(\"Remove empty dimenson dim3:\", tensor.squeeze(2).shape)\n",
        "\n",
        "# Squeeze removes an \"empty\" dimension from our Tensor\n",
        "print(\"Remove empty dimenson dim0:\", tensor.squeeze(0).shape)\n",
        "\n",
        "# If we don't specify a dimension, squeeze will remove ALL empty dimensions\n",
        "print(\"Remove all empty dimensons:\", tensor.squeeze().shape)"
      ]
    },
    {
      "cell_type": "markdown",
      "metadata": {
        "id": "faMrZLI_W8AG"
      },
      "source": [
        "<h2> Broadcasting </h2>"
      ]
    },
    {
      "cell_type": "code",
      "execution_count": null,
      "metadata": {
        "colab": {
          "base_uri": "https://localhost:8080/"
        },
        "id": "VFIkck0VW8AG",
        "outputId": "77eeec8b-08bc-470d-be21-8125f753bf1f"
      },
      "outputs": [
        {
          "output_type": "stream",
          "name": "stdout",
          "text": [
            "Tensor 1 shape:\n",
            " torch.Size([1, 4, 3, 1])\n",
            "\n",
            "Tensor 2 shape:\n",
            " torch.Size([3, 4, 1, 4])\n",
            "\n",
            "The resulting shape is:\n",
            " torch.Size([3, 4, 3, 4])\n"
          ]
        }
      ],
      "source": [
        "# Create 2 differently shaped 4D Tensors (Matrices)\n",
        "tensor1 = torch.rand(1, 4, 3, 1)\n",
        "tensor2 = torch.rand(3, 4, 1, 4)\n",
        "\n",
        "print(\"Tensor 1 shape:\\n\", tensor1.shape)\n",
        "print(\"\\nTensor 2 shape:\\n\", tensor2.shape)\n",
        "\n",
        "tensor3 = tensor1 + tensor2\n",
        "\n",
        "print(\"\\nThe resulting shape is:\\n\", tensor3.shape)"
      ]
    },
    {
      "cell_type": "markdown",
      "metadata": {
        "id": "ma5V51DOW8AG"
      },
      "source": [
        "<h2> Creating a basic Classifier </h2>"
      ]
    },
    {
      "cell_type": "code",
      "execution_count": null,
      "metadata": {
        "id": "zJZ3YGd1W8AG"
      },
      "outputs": [],
      "source": [
        "num_data_points = 1000\n",
        "\n",
        "# Define the mean and covariance for two random data distributions\n",
        "class_1_cov = torch.FloatTensor([[1.3, 0.25], [0.25, 1.4]])\n",
        "class_1_mu = torch.FloatTensor([[1, 2]])\n",
        "class_1_data = torch.randn(num_data_points, 2)\n",
        "class_1_data = torch.mm(class_1_data, class_1_cov) + class_1_mu\n",
        "class_1_data = torch.cat((class_1_data, torch.ones(num_data_points, 1)), 1)\n",
        "\n",
        "class_2_cov = torch.FloatTensor([[2, -0.5], [-0.5, 1]])\n",
        "class_2_mu = torch.FloatTensor([[-2, -3]])\n",
        "class_2_data = torch.randn(num_data_points, 2)\n",
        "class_2_data = torch.mm(class_2_data, class_2_cov) + class_2_mu\n",
        "class_2_data = torch.cat((class_2_data, torch.ones(num_data_points, 1)), 1)\n",
        "\n",
        "# Create some binary labels for each class\n",
        "class_1_labels = torch.zeros(num_data_points, 1)\n",
        "class_2_labels = torch.ones(num_data_points, 1)\n",
        "\n",
        "# Stack all the data and labels together\n",
        "all_data = torch.cat((class_1_data, class_2_data), 0)\n",
        "all_labels = torch.cat((class_1_labels, class_2_labels), 0)"
      ]
    },
    {
      "cell_type": "code",
      "source": [
        "# Plot the two datasets\n",
        "plt.scatter(class_1_data[:, 0], class_1_data[:, 1])\n",
        "plt.scatter(class_2_data[:, 0], class_2_data[:, 1])"
      ],
      "metadata": {
        "colab": {
          "base_uri": "https://localhost:8080/",
          "height": 447
        },
        "id": "CbEexK48XTQz",
        "outputId": "831d1612-c323-4830-e61e-32fb0d793986"
      },
      "execution_count": null,
      "outputs": [
        {
          "output_type": "execute_result",
          "data": {
            "text/plain": [
              "<matplotlib.collections.PathCollection at 0x7db75a4c0c10>"
            ]
          },
          "metadata": {},
          "execution_count": 19
        },
        {
          "output_type": "display_data",
          "data": {
            "text/plain": [
              "<Figure size 640x480 with 1 Axes>"
            ],
            "image/png": "[encoded data removed]"
          },
          "metadata": {}
        }
      ]
    },
    {
      "cell_type": "code",
      "execution_count": null,
      "metadata": {
        "colab": {
          "base_uri": "https://localhost:8080/"
        },
        "id": "SwfllQxUW8AG",
        "outputId": "40c8ee97-6307-4b0c-e03c-2f7ccb130620"
      },
      "outputs": [
        {
          "output_type": "stream",
          "name": "stdout",
          "text": [
            "Classifier Accuracy is 98.15%\n",
            "torch.Size([3, 1])\n"
          ]
        }
      ],
      "source": [
        "# Calculate the parameters (theta) and use it to make a prediction\n",
        "theta = torch.matmul(torch.linalg.pinv(all_data), all_labels)\n",
        "prediction = (torch.matmul(all_data, theta) >= 0.5).type(torch.long)\n",
        "\n",
        "# Calculate the accuracy of the predictions\n",
        "accuracy = (prediction == all_labels).sum()/len(prediction)\n",
        "print(\"Classifier Accuracy is %.2f%%\" % (100 * accuracy.item()))\n",
        "\n",
        "print(theta.shape)"
      ]
    },
    {
      "cell_type": "code",
      "source": [],
      "metadata": {
        "colab": {
          "base_uri": "https://localhost:8080/",
          "height": 245
        },
        "id": "PwRdBT9_h0aB",
        "outputId": "6446cace-34bd-43a4-8f4f-cb03a9a918fd"
      },
      "execution_count": null,
      "outputs": [
        {
          "output_type": "error",
          "ename": "RuntimeError",
          "evalue": "ignored",
          "traceback": [
            "\u001b[0;31m---------------------------------------------------------------------------\u001b[0m",
            "\u001b[0;31mRuntimeError\u001b[0m                              Traceback (most recent call last)",
            "\u001b[0;32m<ipython-input-26-08d95ddcd6ce>\u001b[0m in \u001b[0;36m<cell line: 10>\u001b[0;34m()\u001b[0m\n\u001b[1;32m      8\u001b[0m \u001b[0;34m\u001b[0m\u001b[0m\n\u001b[1;32m      9\u001b[0m \u001b[0;31m# Use the trained classifier to make predictions on the grid\u001b[0m\u001b[0;34m\u001b[0m\u001b[0;34m\u001b[0m\u001b[0m\n\u001b[0;32m---> 10\u001b[0;31m \u001b[0mgrid_predictions\u001b[0m \u001b[0;34m=\u001b[0m \u001b[0;34m(\u001b[0m\u001b[0mtorch\u001b[0m\u001b[0;34m.\u001b[0m\u001b[0mmatmul\u001b[0m\u001b[0;34m(\u001b[0m\u001b[0mgrid_data\u001b[0m\u001b[0;34m,\u001b[0m \u001b[0mtheta\u001b[0m\u001b[0;34m)\u001b[0m \u001b[0;34m>=\u001b[0m \u001b[0;36m0.5\u001b[0m\u001b[0;34m)\u001b[0m\u001b[0;34m.\u001b[0m\u001b[0mtype\u001b[0m\u001b[0;34m(\u001b[0m\u001b[0mtorch\u001b[0m\u001b[0;34m.\u001b[0m\u001b[0mlong\u001b[0m\u001b[0;34m)\u001b[0m\u001b[0;34m\u001b[0m\u001b[0;34m\u001b[0m\u001b[0m\n\u001b[0m\u001b[1;32m     11\u001b[0m \u001b[0;34m\u001b[0m\u001b[0m\n\u001b[1;32m     12\u001b[0m \u001b[0;31m# Reshape predictions to match the grid shape\u001b[0m\u001b[0;34m\u001b[0m\u001b[0;34m\u001b[0m\u001b[0m\n",
            "\u001b[0;31mRuntimeError\u001b[0m: mat1 and mat2 shapes cannot be multiplied (21736x2 and 3x1)"
          ]
        }
      ]
    }
  ],
  "metadata": {
    "kernelspec": {
      "display_name": "Python 3 (ipykernel)",
      "language": "python",
      "name": "python3"
    },
    "language_info": {
      "codemirror_mode": {
        "name": "ipython",
        "version": 3
      },
      "file_extension": ".py",
      "mimetype": "text/x-python",
      "name": "python",
      "nbconvert_exporter": "python",
      "pygments_lexer": "ipython3",
      "version": "3.11.4"
    },
    "colab": {
      "provenance": []
    }
  },
  "nbformat": 4,
  "nbformat_minor": 0
}