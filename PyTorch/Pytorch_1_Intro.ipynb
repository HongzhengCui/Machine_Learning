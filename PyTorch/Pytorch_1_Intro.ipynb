{
  "cells": [
    {
      "cell_type": "markdown",
      "metadata": {
        "id": "wjTi-qCzW8AB"
      },
      "source": [
        "<img src=\"https://upload.wikimedia.org/wikipedia/commons/thumb/9/96/Pytorch_logo.png/800px-Pytorch_logo.png\" alt=\"alt text\" width=\"400\" height=\"100\">\n"
      ]
    },
    {
      "cell_type": "markdown",
      "metadata": {
        "id": "UWbRl-cWW8AC"
      },
      "source": [
        "<h2>Introduction</h2>\n",
        "Pytorch, a powerful and widely used Deep Learning framework that creating larger and more complicated networks, use complicated loss functions, and train with more complicated training regimes, etc."
      ]
    },
    {
      "cell_type": "markdown",
      "metadata": {
        "id": "pZBi_S2JW8AC"
      },
      "source": [
        "<h3> Installing PyTorch and importing the required libraries </h3>\n",
        "PyTorch need to be installed from the official website (https://pytorch.org/get-started/locally/)<br>\n",
        "Pytorch has two main modules, torch and torchvision<br>\n",
        "torch contains most of the Deep Learning functionalities while torchvision contains many computer vision functions designed to work in hand with torch"
      ]
    },
    {
      "cell_type": "code",
      "execution_count": null,
      "metadata": {
        "id": "mAssYpiOW8AC"
      },
      "outputs": [],
      "source": [
        "# ! pip3 install torch torchvision torchaudio --index-url https://download.pytorch.org/whl/cu117"
      ]
    },
    {
      "cell_type": "code",
      "execution_count": 1,
      "metadata": {
        "id": "oZXGQ7T9W8AD"
      },
      "outputs": [],
      "source": [
        "import torch\n",
        "import torchvision\n",
        "import torch.nn as nn\n",
        "import numpy as np\n",
        "import matplotlib.pyplot as plt"
      ]
    },
    {
      "cell_type": "markdown",
      "metadata": {
        "id": "sIbJVKQ-W8AD"
      },
      "source": [
        "<h3> The Pytorch Tensor </h3>"
      ]
    },
    {
      "cell_type": "code",
      "execution_count": 3,
      "metadata": {
        "id": "dz48eZYtW8AD"
      },
      "outputs": [],
      "source": [
        "# Create some \"Matrices\" as lists of lists\n",
        "w = [[1, 1, 1],\n",
        "     [1.5, 1.5, 1.5],\n",
        "     [2, 2, 2]]\n",
        "\n",
        "x = [[6], [7], [8]]\n",
        "b = [[1], [1], [1]]"
      ]
    },
    {
      "cell_type": "code",
      "execution_count": 4,
      "metadata": {
        "colab": {
          "base_uri": "https://localhost:8080/"
        },
        "id": "4JRmA3ZOW8AD",
        "outputId": "bf375725-f634-41c8-ca66-2879ce70e9b8"
      },
      "outputs": [
        {
          "output_type": "stream",
          "name": "stdout",
          "text": [
            "Output:\n",
            " [[22. ]\n",
            " [32.5]\n",
            " [43. ]]\n",
            "Output shape:\n",
            " (3, 1)\n"
          ]
        }
      ],
      "source": [
        "# Transform the list of lists into a \"numpy array\" by using the function \"array\"\n",
        "w_np = np.array(w)\n",
        "x_np = np.array(x)\n",
        "\n",
        "# Use the function \"ones\" to create an array of ones\n",
        "b_np = np.ones((3, 1))\n",
        "\n",
        "# Compute Wx + b using these numpy variables\n",
        "output = np.matmul(w_np, x_np) + b_np\n",
        "\n",
        "# Print out the result\n",
        "print(\"Output:\\n\", output)\n",
        "print(\"Output shape:\\n\", output.shape)"
      ]
    },
    {
      "cell_type": "markdown",
      "metadata": {
        "id": "mxDwYzdlW8AE"
      },
      "source": [
        "Now in Pytorch, transforming the list of lists into a \"torch tensor\" by using the function \"FloatTensor\""
      ]
    },
    {
      "cell_type": "code",
      "execution_count": 5,
      "metadata": {
        "colab": {
          "base_uri": "https://localhost:8080/"
        },
        "id": "08E8sex-W8AE",
        "outputId": "a69a522c-2ea8-46ed-c6dc-96112c07320b"
      },
      "outputs": [
        {
          "output_type": "stream",
          "name": "stdout",
          "text": [
            "Output:\n",
            " tensor([[22.0000],\n",
            "        [32.5000],\n",
            "        [43.0000]])\n",
            "Output shape:\n",
            " torch.Size([3, 1])\n"
          ]
        }
      ],
      "source": [
        "w_torch = torch.FloatTensor(w)\n",
        "\n",
        "x_torch = torch.FloatTensor(x)\n",
        "# Use the function \"ones\" to create an array of ones\n",
        "b_torch = torch.ones(3, 1)\n",
        "\n",
        "# Compute Wx + b using these numpy variables\n",
        "output = torch.matmul(w_torch, x_torch) + b_torch\n",
        "\n",
        "print(\"Output:\\n\", output)\n",
        "print(\"Output shape:\\n\", output.shape)"
      ]
    },
    {
      "cell_type": "markdown",
      "metadata": {
        "id": "vJIKBvXWW8AE"
      },
      "source": [
        "Numpy and Pytorch are remarkably similar, and there are even functions that can transfer Pytorch tensors to Numpy arrays and back"
      ]
    },
    {
      "cell_type": "code",
      "execution_count": 6,
      "metadata": {
        "colab": {
          "base_uri": "https://localhost:8080/"
        },
        "id": "GJI_HuhZW8AE",
        "outputId": "5267f3a5-98d0-4fc0-fc22-bd8624e96a13"
      },
      "outputs": [
        {
          "output_type": "stream",
          "name": "stdout",
          "text": [
            "Numpy array:\n",
            " [[0.50726831 0.75817447 0.81925043 0.48644278]\n",
            " [0.68392451 0.39868146 0.17474019 0.99132007]\n",
            " [0.17592203 0.36129822 0.66274512 0.84310725]]\n",
            "Pytorch tensor:\n",
            " tensor([[0.5073, 0.7582, 0.8193, 0.4864],\n",
            "        [0.6839, 0.3987, 0.1747, 0.9913],\n",
            "        [0.1759, 0.3613, 0.6627, 0.8431]])\n",
            "Numpy array:\n",
            " [[0.5072683  0.7581745  0.8192504  0.48644277]\n",
            " [0.6839245  0.39868146 0.1747402  0.9913201 ]\n",
            " [0.17592204 0.36129823 0.6627451  0.8431072 ]]\n"
          ]
        }
      ],
      "source": [
        "# Create a random Numpy array\n",
        "np_array = np.random.random((3, 4))\n",
        "print(\"Numpy array:\\n\", np_array)\n",
        "\n",
        "# Convert to Pytorch tensor\n",
        "torch_tensor = torch.FloatTensor(np_array)\n",
        "print(\"Pytorch tensor:\\n\", torch_tensor)\n",
        "\n",
        "# Convert back to a Numpy array\n",
        "np_array2 = torch_tensor.numpy()\n",
        "print(\"Numpy array:\\n\", np_array2)"
      ]
    },
    {
      "cell_type": "markdown",
      "metadata": {
        "id": "XnaB8k8hW8AE"
      },
      "source": [
        "<h3> Basic Element-wise Operations </h3>"
      ]
    },
    {
      "cell_type": "code",
      "execution_count": 7,
      "metadata": {
        "colab": {
          "base_uri": "https://localhost:8080/"
        },
        "id": "axHzT0TuW8AE",
        "outputId": "937fcc98-aa17-49a7-be3b-05be0aaf2719"
      },
      "outputs": [
        {
          "output_type": "stream",
          "name": "stdout",
          "text": [
            "The oringinal tensor:\n",
            " tensor([[0.2602, 0.2542, 0.7368, 0.9799, 0.3699],\n",
            "        [0.7593, 0.2295, 0.6596, 0.3522, 0.6600],\n",
            "        [0.5400, 0.6344, 0.4315, 0.0695, 0.1102],\n",
            "        [0.1954, 0.3424, 0.8650, 0.9411, 0.7502]])\n",
            "\n",
            "Scalar multiplication:\n",
            " tensor([[2.6018, 2.5418, 7.3684, 9.7988, 3.6994],\n",
            "        [7.5928, 2.2949, 6.5956, 3.5216, 6.5997],\n",
            "        [5.4003, 6.3437, 4.3155, 0.6947, 1.1019],\n",
            "        [1.9542, 3.4243, 8.6501, 9.4106, 7.5019]])\n",
            "Addition and square:\n",
            " tensor([[1.5880, 1.5730, 3.0166, 3.9199, 1.8767],\n",
            "        [3.0951, 1.5116, 2.7541, 1.8283, 2.7555],\n",
            "        [2.3717, 2.6712, 2.0493, 1.1438, 1.2325],\n",
            "        [1.4290, 1.8021, 3.4783, 3.7677, 3.0632]])\n",
            "Addition:\n",
            " tensor([[0.5204, 0.5084, 1.4737, 1.9598, 0.7399],\n",
            "        [1.5186, 0.4590, 1.3191, 0.7043, 1.3199],\n",
            "        [1.0801, 1.2687, 0.8631, 0.1389, 0.2204],\n",
            "        [0.3908, 0.6849, 1.7300, 1.8821, 1.5004]])\n",
            "Addition and division:\n",
            " tensor([[0.2065, 0.2027, 0.4242, 0.4949, 0.2700],\n",
            "        [0.4316, 0.1867, 0.3974, 0.2604, 0.3976],\n",
            "        [0.3507, 0.3881, 0.3015, 0.0650, 0.0993],\n",
            "        [0.1635, 0.2551, 0.4638, 0.4848, 0.4286]])\n",
            "\n",
            "Power and square root:\n",
            " tensor([[0.2602, 0.2542, 0.7368, 0.9799, 0.3699],\n",
            "        [0.7593, 0.2295, 0.6596, 0.3522, 0.6600],\n",
            "        [0.5400, 0.6344, 0.4315, 0.0695, 0.1102],\n",
            "        [0.1954, 0.3424, 0.8650, 0.9411, 0.7502]])\n",
            "\n",
            "Min:0.07\n",
            "Max:0.98\n",
            "Standard deviation:0.28\n",
            "Sum:10.14\n"
          ]
        }
      ],
      "source": [
        "# Create a 2D Tensor using torch.rand\n",
        "y = torch.rand(4, 5)\n",
        "print(\"The oringinal tensor:\\n\",y)\n",
        "\n",
        "# Perform normal python scalar arithmetic on Torch tensors\n",
        "print(\"\\nScalar multiplication:\\n\", y*10)\n",
        "print(\"Addition and square:\\n\", (y+1)**2)\n",
        "print(\"Addition:\\n\", y+y)\n",
        "print(\"Addition and division:\\n\", y/(y + 1))\n",
        "\n",
        "# Use a combination of Torch functions and normal python arithmetic\n",
        "print(\"\\nPower and square root:\\n\", torch.sqrt(y**2))\n",
        "\n",
        "# Torch tensors are objects and have functions\n",
        "print(\"\\nMin:%.2f\\nMax:%.2f\\nStandard deviation:%.2f\\nSum:%.2f\" %(y.min(), y.max(), y.std(), y.sum()))"
      ]
    },
    {
      "cell_type": "markdown",
      "metadata": {
        "id": "Q77E9SyuW8AE"
      },
      "source": [
        "<h3>Tensor Opperations</h3>"
      ]
    },
    {
      "cell_type": "code",
      "execution_count": 8,
      "metadata": {
        "colab": {
          "base_uri": "https://localhost:8080/"
        },
        "id": "D7anyde1W8AF",
        "outputId": "97869de6-918f-460e-f531-2559c52851d0"
      },
      "outputs": [
        {
          "output_type": "stream",
          "name": "stdout",
          "text": [
            "Addition:\n",
            " tensor([[[1.1077, 1.4774, 0.5305],\n",
            "         [1.2195, 1.4021, 1.1418],\n",
            "         [0.7098, 0.9079, 1.5354]],\n",
            "\n",
            "        [[1.5972, 0.7755, 1.2750],\n",
            "         [0.9500, 1.2623, 1.0601],\n",
            "         [1.4086, 0.8248, 1.0432]],\n",
            "\n",
            "        [[1.1205, 1.2060, 1.5583],\n",
            "         [0.9777, 0.7762, 0.7566],\n",
            "         [0.6267, 1.3498, 0.6968]]])\n",
            "\n",
            "Batch Multiplication:\n",
            " tensor([[[0.7643, 1.5121, 0.9931],\n",
            "         [0.9454, 0.7860, 1.0318],\n",
            "         [0.3981, 0.9811, 0.7757]],\n",
            "\n",
            "        [[1.3612, 0.7657, 0.4163],\n",
            "         [1.0978, 1.0125, 1.2125],\n",
            "         [1.4332, 0.8557, 0.6515]],\n",
            "\n",
            "        [[0.7404, 1.1143, 0.9978],\n",
            "         [0.3236, 0.3798, 0.4506],\n",
            "         [0.8146, 1.1103, 0.9867]]])\n"
          ]
        }
      ],
      "source": [
        "# Create two 3D Tensors\n",
        "tensor_1 = torch.rand(3, 3, 3)\n",
        "tensor_2 = torch.rand(3, 3, 3)\n",
        "\n",
        "# Add the 2 Tensors\n",
        "print(\"Addition:\\n\", tensor_1+tensor_2)\n",
        "\n",
        "# We cannot perform a normal \"matrix\" multiplication on a 3D tensor\n",
        "# But we can treat the 3D tensor as a \"batch\" (like a stack) of 2D tensors\n",
        "# And perform normal matrix multiplication independently on each pair of 2D matrices\n",
        "print(\"\\nBatch Multiplication:\\n\", torch.bmm(tensor_1, tensor_2))"
      ]
    },
    {
      "cell_type": "code",
      "execution_count": 9,
      "metadata": {
        "colab": {
          "base_uri": "https://localhost:8080/"
        },
        "id": "jK9RG1PJW8AF",
        "outputId": "7980f159-5f78-42db-c576-c86c23f300d3"
      },
      "outputs": [
        {
          "output_type": "stream",
          "name": "stdout",
          "text": [
            "The origional Tensor is is:\n",
            " tensor([[[0.3390, 0.2301, 0.1492, 0.7962, 0.6256],\n",
            "         [0.0412, 0.0099, 0.3430, 0.6389, 0.4345],\n",
            "         [0.6668, 0.6540, 0.4750, 0.8744, 0.5021],\n",
            "         [0.3571, 0.2348, 0.6210, 0.6961, 0.2550]],\n",
            "\n",
            "        [[0.6743, 0.8159, 0.6179, 0.9263, 0.5587],\n",
            "         [0.2446, 0.2370, 0.1601, 0.9192, 0.6771],\n",
            "         [0.0087, 0.4754, 0.7796, 0.7738, 0.4676],\n",
            "         [0.3223, 0.3283, 0.3525, 0.4822, 0.9566]]])\n",
            "With shape:\n",
            " torch.Size([2, 4, 5])\n",
            "\n",
            "The Re-arranged is:\n",
            " tensor([[[0.3390, 0.6743],\n",
            "         [0.0412, 0.2446],\n",
            "         [0.6668, 0.0087],\n",
            "         [0.3571, 0.3223]],\n",
            "\n",
            "        [[0.2301, 0.8159],\n",
            "         [0.0099, 0.2370],\n",
            "         [0.6540, 0.4754],\n",
            "         [0.2348, 0.3283]],\n",
            "\n",
            "        [[0.1492, 0.6179],\n",
            "         [0.3430, 0.1601],\n",
            "         [0.4750, 0.7796],\n",
            "         [0.6210, 0.3525]],\n",
            "\n",
            "        [[0.7962, 0.9263],\n",
            "         [0.6389, 0.9192],\n",
            "         [0.8744, 0.7738],\n",
            "         [0.6961, 0.4822]],\n",
            "\n",
            "        [[0.6256, 0.5587],\n",
            "         [0.4345, 0.6771],\n",
            "         [0.5021, 0.4676],\n",
            "         [0.2550, 0.9566]]])\n",
            "With shape:\n",
            " torch.Size([5, 4, 2])\n"
          ]
        }
      ],
      "source": [
        "tensor_3 = torch.rand(2, 4, 5)\n",
        "print(\"The origional Tensor is is:\\n\", tensor_3)\n",
        "print(\"With shape:\\n\", tensor_3.shape)\n",
        "\n",
        "# Swap the Tensor dimensions by tranpose\n",
        "print(\"\\nThe Re-arranged is:\\n\", tensor_3.transpose(0, 2))\n",
        "print(\"With shape:\\n\", tensor_3.transpose(0, 2).shape)"
      ]
    },
    {
      "cell_type": "markdown",
      "metadata": {
        "id": "kDgrB-DmW8AF"
      },
      "source": [
        "<h3> Indexing </h3>\n",
        "Indexing in Pytorch works the same as it does in Numpy"
      ]
    },
    {
      "cell_type": "code",
      "execution_count": 10,
      "metadata": {
        "colab": {
          "base_uri": "https://localhost:8080/"
        },
        "id": "Xjqm52OYW8AF",
        "outputId": "1796adb3-5cb9-45a7-94c4-9f6400725499"
      },
      "outputs": [
        {
          "output_type": "stream",
          "name": "stdout",
          "text": [
            "Our Tensor:\n",
            " tensor([[[[0.8290, 0.7727, 0.4859, 0.5289]],\n",
            "\n",
            "         [[0.6913, 0.5385, 0.0824, 0.4735]],\n",
            "\n",
            "         [[0.5547, 0.1893, 0.6570, 0.8332]]],\n",
            "\n",
            "\n",
            "        [[[0.2484, 0.1829, 0.8193, 0.6761]],\n",
            "\n",
            "         [[0.7682, 0.1740, 0.0190, 0.4327]],\n",
            "\n",
            "         [[0.3033, 0.6516, 0.0203, 0.9316]]]])\n",
            "\n",
            "The last element of dim0:\n",
            " tensor([[[0.2484, 0.1829, 0.8193, 0.6761]],\n",
            "\n",
            "        [[0.7682, 0.1740, 0.0190, 0.4327]],\n",
            "\n",
            "        [[0.3033, 0.6516, 0.0203, 0.9316]]])\n",
            "\n",
            "Indexed elements:\n",
            " tensor([[0.6913, 0.5385, 0.0824, 0.4735]])\n",
            "\n",
            "Indexed elements:\n",
            " tensor([0.0824, 0.0190])\n"
          ]
        }
      ],
      "source": [
        "# Create a 4D Tensor\n",
        "tensor = torch.rand(2, 3, 1, 4)\n",
        "print(\"Our Tensor:\\n\", tensor)\n",
        "\n",
        "# Select the last element of dim0\n",
        "print(\"\\nThe last element of dim0:\\n\", tensor[-1])\n",
        "\n",
        "# 1st element of dim0\n",
        "# 2nd element of dim1\n",
        "print(\"\\nIndexed elements:\\n\", tensor[0, 1])\n",
        "\n",
        "# Select all elements of dim0\n",
        "# The 2nd element of dim1\n",
        "# The 1st element of dim2\n",
        "# The 3rd element of dim3\n",
        "print(\"\\nIndexed elements:\\n\", tensor[:, 1, 0, 2])"
      ]
    },
    {
      "cell_type": "markdown",
      "metadata": {
        "id": "S27klGQ4W8AF"
      },
      "source": [
        "<h3> Describing Tensors </h3>"
      ]
    },
    {
      "cell_type": "code",
      "execution_count": 11,
      "metadata": {
        "colab": {
          "base_uri": "https://localhost:8080/"
        },
        "id": "c3xcHvFiW8AF",
        "outputId": "e968f19a-7d4f-458a-fdb6-f9ffa8e23947"
      },
      "outputs": [
        {
          "output_type": "stream",
          "name": "stdout",
          "text": [
            "The Tensor's shape is: torch.Size([3, 5, 3, 2])\n",
            "The Tensor's shape using size() is: torch.Size([3, 5, 3, 2])\n",
            "There are 90 elements in total:\n",
            "There are 4 Dimensions\n"
          ]
        }
      ],
      "source": [
        "# Create a large 4D Tensor\n",
        "tensor = torch.rand(3, 5, 3, 2)\n",
        "\n",
        "# View the Number of elements in every dimension\n",
        "print(\"The Tensor's shape is:\", tensor.shape)\n",
        "\n",
        "# In Pytorch shape and size() do the same thing\n",
        "print(\"The Tensor's shape using size() is:\", tensor.size())\n",
        "\n",
        "# View the number of elements in total\n",
        "print(\"There are %d elements in total:\" % tensor.numel())\n",
        "\n",
        "# View the number of Dimensions\n",
        "print(\"There are %d Dimensions\" % (tensor.ndim))"
      ]
    },
    {
      "cell_type": "markdown",
      "source": [
        "<h3> Reshaping </h3>"
      ],
      "metadata": {
        "id": "v6e0dFSRESRw"
      }
    },
    {
      "cell_type": "code",
      "execution_count": 13,
      "metadata": {
        "colab": {
          "base_uri": "https://localhost:8080/"
        },
        "id": "fkK7ytVRW8AF",
        "outputId": "553ee8a0-b4fd-4c17-d13d-9176170ddf1d"
      },
      "outputs": [
        {
          "output_type": "stream",
          "name": "stdout",
          "text": [
            "Reshape to 3x30:\n",
            " tensor([[0.4418, 0.1728, 0.4809, 0.2310, 0.4004, 0.9807, 0.2963, 0.9808, 0.0040,\n",
            "         0.0671, 0.8909, 0.4866, 0.6554, 0.1466, 0.9905, 0.5762, 0.9544, 0.2876,\n",
            "         0.6727, 0.6639, 0.8368, 0.7893, 0.3148, 0.5573, 0.6575, 0.4580, 0.2961,\n",
            "         0.0293, 0.7323, 0.5458],\n",
            "        [0.0449, 0.2078, 0.4969, 0.5371, 0.0755, 0.8115, 0.4807, 0.6119, 0.9637,\n",
            "         0.0626, 0.8422, 0.3738, 0.3717, 0.2841, 0.1221, 0.3582, 0.5207, 0.4166,\n",
            "         0.8806, 0.2615, 0.9684, 0.3605, 0.4316, 0.5070, 0.8564, 0.2263, 0.3358,\n",
            "         0.7604, 0.2087, 0.5620],\n",
            "        [0.5030, 0.1664, 0.6614, 0.2328, 0.9897, 0.9031, 0.4806, 0.5212, 0.9260,\n",
            "         0.4211, 0.8522, 0.3587, 0.0437, 0.7436, 0.6936, 0.2591, 0.0360, 0.0269,\n",
            "         0.0458, 0.1474, 0.3088, 0.6755, 0.7962, 0.6722, 0.4133, 0.9316, 0.0931,\n",
            "         0.6620, 0.8740, 0.3729]])\n",
            "\n",
            "Flatten to a 1D Tensor:\n",
            " tensor([0.4418, 0.1728, 0.4809, 0.2310, 0.4004, 0.9807, 0.2963, 0.9808, 0.0040,\n",
            "        0.0671, 0.8909, 0.4866, 0.6554, 0.1466, 0.9905, 0.5762, 0.9544, 0.2876,\n",
            "        0.6727, 0.6639, 0.8368, 0.7893, 0.3148, 0.5573, 0.6575, 0.4580, 0.2961,\n",
            "        0.0293, 0.7323, 0.5458, 0.0449, 0.2078, 0.4969, 0.5371, 0.0755, 0.8115,\n",
            "        0.4807, 0.6119, 0.9637, 0.0626, 0.8422, 0.3738, 0.3717, 0.2841, 0.1221,\n",
            "        0.3582, 0.5207, 0.4166, 0.8806, 0.2615, 0.9684, 0.3605, 0.4316, 0.5070,\n",
            "        0.8564, 0.2263, 0.3358, 0.7604, 0.2087, 0.5620, 0.5030, 0.1664, 0.6614,\n",
            "        0.2328, 0.9897, 0.9031, 0.4806, 0.5212, 0.9260, 0.4211, 0.8522, 0.3587,\n",
            "        0.0437, 0.7436, 0.6936, 0.2591, 0.0360, 0.0269, 0.0458, 0.1474, 0.3088,\n",
            "        0.6755, 0.7962, 0.6722, 0.4133, 0.9316, 0.0931, 0.6620, 0.8740, 0.3729])\n"
          ]
        }
      ],
      "source": [
        "# Reshape the Tensor to a 2D Tensor\n",
        "print(\"Reshape to 3x30:\\n\", tensor.reshape(3, 30))\n",
        "\n",
        "# Use the Flatten method to convert to a 1D Tensor\n",
        "print(\"\\nFlatten to a 1D Tensor:\\n\",tensor.flatten())"
      ]
    },
    {
      "cell_type": "markdown",
      "metadata": {
        "id": "NY5ddg4-W8AF"
      },
      "source": [
        "<h4>Squeezing and Unsqueezing </h4>\n",
        "A very common shape-changing operation is to add an \"empty\" dimension to ensure the shape (specifically the number of dimensions) of the tensor is correct for certain functions. <br>"
      ]
    },
    {
      "cell_type": "code",
      "execution_count": 14,
      "metadata": {
        "colab": {
          "base_uri": "https://localhost:8080/"
        },
        "id": "rtKI6hEfW8AF",
        "outputId": "306c055e-3b58-4a67-8d78-b91933051aea"
      },
      "outputs": [
        {
          "output_type": "stream",
          "name": "stdout",
          "text": [
            "The Tensors shape is: torch.Size([3, 2])\n",
            "Add an empty dimenson to dim3: torch.Size([3, 2, 1])\n",
            "Add an empty dimenson to dim2: torch.Size([3, 1, 2])\n"
          ]
        }
      ],
      "source": [
        "# Create a 2D Tensor\n",
        "tensor = torch.rand(3, 2)\n",
        "\n",
        "# View the Number of elements in every dimension\n",
        "print(\"The Tensors shape is:\", tensor.shape)\n",
        "\n",
        "# Unsqueeze adds an \"empty\" dimension to our Tensor\n",
        "print(\"Add an empty dimenson to dim3:\", tensor.unsqueeze(2).shape)\n",
        "\n",
        "# Unsqueeze adds an \"empty\" dimension to our Tensor\n",
        "print(\"Add an empty dimenson to dim2:\", tensor.unsqueeze(1).shape)"
      ]
    },
    {
      "cell_type": "code",
      "execution_count": 15,
      "metadata": {
        "colab": {
          "base_uri": "https://localhost:8080/"
        },
        "id": "GsBNP8rGW8AF",
        "outputId": "cef5b16a-94c2-448a-fd42-d2ea72563732"
      },
      "outputs": [
        {
          "output_type": "stream",
          "name": "stdout",
          "text": [
            "The Tensor's shape is: torch.Size([1, 3, 1, 2])\n",
            "Remove empty dimenson dim3: torch.Size([1, 3, 2])\n",
            "Remove empty dimenson dim0: torch.Size([3, 1, 2])\n",
            "Remove all empty dimensons: torch.Size([3, 2])\n"
          ]
        }
      ],
      "source": [
        "# Create a 4D Tensor with a few \"empty\" dimensions\n",
        "tensor = torch.rand(1, 3, 1, 2)\n",
        "\n",
        "# View the Number of elements in every dimension\n",
        "print(\"The Tensor's shape is:\", tensor.shape)\n",
        "\n",
        "# Squeeze removes an \"empty\" dimension from our Tensor\n",
        "print(\"Remove empty dimenson dim3:\", tensor.squeeze(2).shape)\n",
        "\n",
        "# Squeeze removes an \"empty\" dimension from our Tensor\n",
        "print(\"Remove empty dimenson dim0:\", tensor.squeeze(0).shape)\n",
        "\n",
        "# If specify a dimension, squeeze will remove ALL empty dimensions\n",
        "print(\"Remove all empty dimensons:\", tensor.squeeze().shape)"
      ]
    },
    {
      "cell_type": "markdown",
      "metadata": {
        "id": "faMrZLI_W8AG"
      },
      "source": [
        "<h2> Broadcasting </h2>"
      ]
    },
    {
      "cell_type": "code",
      "execution_count": 16,
      "metadata": {
        "colab": {
          "base_uri": "https://localhost:8080/"
        },
        "id": "VFIkck0VW8AG",
        "outputId": "e83055b5-3757-4056-e62a-996a90d0f25c"
      },
      "outputs": [
        {
          "output_type": "stream",
          "name": "stdout",
          "text": [
            "Tensor 1 shape:\n",
            " torch.Size([1, 4, 3, 1])\n",
            "\n",
            "Tensor 2 shape:\n",
            " torch.Size([3, 4, 1, 4])\n",
            "\n",
            "The resulting shape is:\n",
            " torch.Size([3, 4, 3, 4])\n"
          ]
        }
      ],
      "source": [
        "# Create 2 differently shaped 4D Tensors (Matrices)\n",
        "tensor1 = torch.rand(1, 4, 3, 1)\n",
        "tensor2 = torch.rand(3, 4, 1, 4)\n",
        "\n",
        "print(\"Tensor 1 shape:\\n\", tensor1.shape)\n",
        "print(\"\\nTensor 2 shape:\\n\", tensor2.shape)\n",
        "\n",
        "tensor3 = tensor1 + tensor2\n",
        "\n",
        "print(\"\\nThe resulting shape is:\\n\", tensor3.shape)"
      ]
    },
    {
      "cell_type": "markdown",
      "metadata": {
        "id": "ma5V51DOW8AG"
      },
      "source": [
        "<h2> Creating a basic Classifier </h2>"
      ]
    },
    {
      "cell_type": "code",
      "execution_count": 17,
      "metadata": {
        "id": "zJZ3YGd1W8AG"
      },
      "outputs": [],
      "source": [
        "num_data_points = 1000\n",
        "\n",
        "# Define the mean and covariance for two random data distributions\n",
        "class_1_cov = torch.FloatTensor([[1.3, 0.25], [0.25, 1.4]])\n",
        "class_1_mu = torch.FloatTensor([[1, 2]])\n",
        "class_1_data = torch.randn(num_data_points, 2)\n",
        "class_1_data = torch.mm(class_1_data, class_1_cov) + class_1_mu\n",
        "class_1_data = torch.cat((class_1_data, torch.ones(num_data_points, 1)), 1)\n",
        "\n",
        "class_2_cov = torch.FloatTensor([[2, -0.5], [-0.5, 1]])\n",
        "class_2_mu = torch.FloatTensor([[-2, -3]])\n",
        "class_2_data = torch.randn(num_data_points, 2)\n",
        "class_2_data = torch.mm(class_2_data, class_2_cov) + class_2_mu\n",
        "class_2_data = torch.cat((class_2_data, torch.ones(num_data_points, 1)), 1)\n",
        "\n",
        "# Create some binary labels for each class\n",
        "class_1_labels = torch.zeros(num_data_points, 1)\n",
        "class_2_labels = torch.ones(num_data_points, 1)\n",
        "\n",
        "# Stack all the data and labels together\n",
        "all_data = torch.cat((class_1_data, class_2_data), 0)\n",
        "all_labels = torch.cat((class_1_labels, class_2_labels), 0)"
      ]
    },
    {
      "cell_type": "code",
      "source": [
        "# Plot the two datasets\n",
        "plt.scatter(class_1_data[:, 0], class_1_data[:, 1])\n",
        "plt.scatter(class_2_data[:, 0], class_2_data[:, 1])"
      ],
      "metadata": {
        "colab": {
          "base_uri": "https://localhost:8080/",
          "height": 447
        },
        "id": "CbEexK48XTQz",
        "outputId": "299c982f-d31c-4fa6-e906-d9346de8e43d"
      },
      "execution_count": 18,
      "outputs": [
        {
          "output_type": "execute_result",
          "data": {
            "text/plain": [
              "<matplotlib.collections.PathCollection at 0x7ede85e57dc0>"
            ]
          },
          "metadata": {},
          "execution_count": 18
        },
        {
          "output_type": "display_data",
          "data": {
            "text/plain": [
              "<Figure size 640x480 with 1 Axes>"
            ],
            "image/png": "[encoded data removed]"
          },
          "metadata": {}
        }
      ]
    },
    {
      "cell_type": "code",
      "execution_count": 19,
      "metadata": {
        "colab": {
          "base_uri": "https://localhost:8080/"
        },
        "id": "SwfllQxUW8AG",
        "outputId": "a6895233-add7-489f-b518-0109cd5a73a0"
      },
      "outputs": [
        {
          "output_type": "stream",
          "name": "stdout",
          "text": [
            "Classifier Accuracy is 98.70%\n",
            "torch.Size([3, 1])\n"
          ]
        }
      ],
      "source": [
        "# Calculate the parameters (theta) and use it to make a prediction\n",
        "theta = torch.matmul(torch.linalg.pinv(all_data), all_labels)\n",
        "prediction = (torch.matmul(all_data, theta) >= 0.5).type(torch.long)\n",
        "\n",
        "# Calculate the accuracy of the predictions\n",
        "accuracy = (prediction == all_labels).sum()/len(prediction)\n",
        "print(\"Classifier Accuracy is %.2f%%\" % (100 * accuracy.item()))\n",
        "\n",
        "print(theta.shape)"
      ]
    }
  ],
  "metadata": {
    "kernelspec": {
      "display_name": "Python 3 (ipykernel)",
      "language": "python",
      "name": "python3"
    },
    "language_info": {
      "codemirror_mode": {
        "name": "ipython",
        "version": 3
      },
      "file_extension": ".py",
      "mimetype": "text/x-python",
      "name": "python",
      "nbconvert_exporter": "python",
      "pygments_lexer": "ipython3",
      "version": "3.11.4"
    },
    "colab": {
      "provenance": []
    }
  },
  "nbformat": 4,
  "nbformat_minor": 0
}