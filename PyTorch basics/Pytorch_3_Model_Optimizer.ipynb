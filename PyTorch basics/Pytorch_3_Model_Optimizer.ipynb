{
  "cells": [
    {
      "cell_type": "markdown",
      "metadata": {
        "id": "WkXQ5NEhQSG4"
      },
      "source": [
        "<img src=\"https://upload.wikimedia.org/wikipedia/commons/thumb/9/96/Pytorch_logo.png/800px-Pytorch_logo.png\" alt=\"alt text\" width=\"350\" height=\"100\">\n"
      ]
    },
    {
      "cell_type": "markdown",
      "metadata": {
        "id": "USGQUyw3QSG5"
      },
      "source": [
        "<h3>Pytorch nn.Module</h3>\n",
        "In Pytorch the basic template for creating models is the \"Module\" class within torch.nn. To create a class, this class is inherited as the \"superclass\" so that all the properties and functions can be accessed. <br>"
      ]
    },
    {
      "cell_type": "code",
      "execution_count": 45,
      "metadata": {
        "id": "8D8BhvGRQSG6"
      },
      "outputs": [],
      "source": [
        "import torch\n",
        "import torchvision\n",
        "import torch.nn as nn\n",
        "import numpy as np\n",
        "import matplotlib.pyplot as plt"
      ]
    },
    {
      "cell_type": "markdown",
      "metadata": {
        "id": "L2jxx109QSG6"
      },
      "source": [
        "The two main functions need to be created are the <b>\\__init__</b> and <b>forward</b> functions.\n",
        "\n",
        "The <b>forward</b> function is the only function before building class, Pytorch uses this fuction as the \"entry point\" to the model and is called when doing a forward pass of the model.\n"
      ]
    },
    {
      "cell_type": "code",
      "execution_count": 46,
      "metadata": {
        "id": "2mncBNpjQSG6"
      },
      "outputs": [],
      "source": [
        "# Creating the class inheriting from the nn.Module class\n",
        "class SimpleFunction(nn.Module):\n",
        "    \"\"\"\n",
        "    Simple implementation of an nn.Module subclass\n",
        "    Takes the input (x) and returns x * 4 + 2\n",
        "    \"\"\"\n",
        "    def __init__(self):\n",
        "        # Pass the class and self to superclass and call the superclass's init function\n",
        "        super(SimpleFunction, self).__init__()\n",
        "\n",
        "    def forward(self, x):\n",
        "        return x * 4 + 2"
      ]
    },
    {
      "cell_type": "code",
      "execution_count": 47,
      "metadata": {
        "id": "Zmul3PlxQSG6",
        "colab": {
          "base_uri": "https://localhost:8080/"
        },
        "outputId": "96ae7173-63bd-4464-8f64-630320f15126"
      },
      "outputs": [
        {
          "output_type": "stream",
          "name": "stdout",
          "text": [
            "Class output: 42\n"
          ]
        }
      ],
      "source": [
        "# Create an instance of the class\n",
        "simple_function = SimpleFunction()\n",
        "\n",
        "# Perform a \"forward pass\" of the class\n",
        "output = simple_function(10)\n",
        "print(\"Class output:\", output)\n",
        "\n",
        "# Do NOT need to explicitly call the .forward() function of the class,\n",
        "# A forward pass of the models is a common step that Pytorch makes it easier and clearer to do"
      ]
    },
    {
      "cell_type": "markdown",
      "metadata": {
        "id": "1a_8zENHQSG6"
      },
      "source": [
        "<h3>A more complicated model </h3>\n",
        "The previous nn.Module class that created wasn't really a ML \"model\". A simple linear model will be created in this section."
      ]
    },
    {
      "cell_type": "code",
      "execution_count": 48,
      "metadata": {
        "id": "stCdjDfEQSG7"
      },
      "outputs": [],
      "source": [
        "class LinearModel(nn.Module):\n",
        "    \"\"\"\n",
        "    Takes the input (x) and returns x * w^t + b\n",
        "    \"\"\"\n",
        "    def __init__(self, input_size, output_size):\n",
        "        # Pass the class and self to superclass and call the superclass's init function\n",
        "        super(LinearModel, self).__init__()\n",
        "\n",
        "        # nn.Parameter wraps the normal tensors and \"tells\" Pytorch\n",
        "        # That they are the nn.Module's model parameters to be optimized\n",
        "        # nn.Parameter has the requires grad flag set to True by default\n",
        "        self.w = nn.Parameter(torch.randn(output_size, input_size))\n",
        "        self.b = nn.Parameter(torch.randn(1, output_size))\n",
        "\n",
        "    def forward(self, x):\n",
        "        return torch.matmul(x,  self.w.t()) + self.b"
      ]
    },
    {
      "cell_type": "code",
      "execution_count": 49,
      "metadata": {
        "id": "WdohnR7UQSG7",
        "colab": {
          "base_uri": "https://localhost:8080/"
        },
        "outputId": "c5755a55-b9be-4eae-8671-50669e3f799d"
      },
      "outputs": [
        {
          "output_type": "stream",
          "name": "stdout",
          "text": [
            "torch.Size([10, 1])\n",
            "tensor([ 2.3415,  3.2251,  1.1223,  3.4108,  3.2142,  1.9206,  3.1369, -3.9104,\n",
            "         1.6117,  3.6997])\n"
          ]
        }
      ],
      "source": [
        "#Create a batch of 10 datapoints each 5D\n",
        "input_data = torch.randn(10, 5)\n",
        "\n",
        "#Create an instance of the Model\n",
        "linear_model = LinearModel(5, 1)\n",
        "\n",
        "#Perform a forward pass\n",
        "output = linear_model(input_data)\n",
        "\n",
        "print(output.shape)\n",
        "print(output.flatten().detach())\n",
        "#Note: detach \"disconnects\" the tensor and returns it with no history of previous calculations"
      ]
    },
    {
      "cell_type": "markdown",
      "metadata": {
        "id": "vOPQ4SdlQSG7"
      },
      "source": [
        "<h3>Pytorch inbuilt Neural Network Layers</h3>\n",
        "This \"Linear layer\" is so common that Pytorch already has an implementation of it, in fact Pytorch has implementations of most Layer types which act as building blocks for the multi-layer models.<br>\n",
        "- Pytorch initialises the weights and biases of it's layers in particular ways (not just from a normal distribution), usualy based off of deep learning research.<br>\n",
        "- Pytorch includes a bias term in it's layers by default."
      ]
    },
    {
      "cell_type": "code",
      "execution_count": 50,
      "metadata": {
        "id": "H5sDkiiIQSG7",
        "colab": {
          "base_uri": "https://localhost:8080/"
        },
        "outputId": "fc50a004-7cd3-4e8d-c907-b8b89c015ca6"
      },
      "outputs": [
        {
          "output_type": "stream",
          "name": "stdout",
          "text": [
            "w:\n",
            " tensor([[ 0.0386, -0.1755,  0.3168]])\n",
            "b:\n",
            " tensor([0.2286])\n",
            "w shape:\n",
            " torch.Size([1, 3])\n",
            "b shape:\n",
            " torch.Size([1])\n"
          ]
        }
      ],
      "source": [
        "# Build a linear layer or a \"Perceptron\" layer\n",
        "# nn.Linear(Number of inputs, Number of outputs)\n",
        "linear = nn.Linear(3, 1)\n",
        "\n",
        "# The \"weights\" are what is multipied by the input data\n",
        "print ('w:\\n', linear.weight.data)\n",
        "\n",
        "# The bias is then added on\n",
        "print ('b:\\n', linear.bias.data)\n",
        "\n",
        "print ('w shape:\\n', linear.weight.data.shape)\n",
        "print ('b shape:\\n', linear.bias.data.shape)\n",
        "\n",
        "# Note: .data just gives the raw Tensor without any connection to the computational graph\n",
        "\n",
        "# Note: The opperation the linear layer performs is y = x*A^t + b\n",
        "# Where A^t is the transpose of the weights and b is the bias,\n",
        "# This opperation is also know as an \"affine transformation\""
      ]
    },
    {
      "cell_type": "code",
      "execution_count": 51,
      "metadata": {
        "id": "SDOJcaQKQSG7",
        "colab": {
          "base_uri": "https://localhost:8080/"
        },
        "outputId": "9b13758f-acf7-4c7b-a8c2-10c04b60636f"
      },
      "outputs": [
        {
          "output_type": "stream",
          "name": "stdout",
          "text": [
            "w:\n",
            " None\n",
            "b:\n",
            " None\n"
          ]
        }
      ],
      "source": [
        "# Take a look at the gradients of these parameters\n",
        "print ('w:\\n', linear.weight.grad)\n",
        "print ('b:\\n', linear.bias.grad)\n",
        "\n",
        "# Note: Pytorch initialises the grad of the tensors to \"None\" NOT 0\n",
        "# They only get created after the first backwards pass."
      ]
    },
    {
      "cell_type": "code",
      "execution_count": 52,
      "metadata": {
        "id": "n7p-q_HBQSG7",
        "colab": {
          "base_uri": "https://localhost:8080/"
        },
        "outputId": "e339671e-038c-4a35-b029-a14adb7c389d"
      },
      "outputs": [
        {
          "output_type": "stream",
          "name": "stdout",
          "text": [
            "Input data:\n",
            " tensor([[-0.9944, -0.5955, -0.8709],\n",
            "        [-1.3892,  1.0370,  1.7785],\n",
            "        [-0.1673,  1.6457,  1.2342],\n",
            "        [-1.5424,  1.5813, -0.0185],\n",
            "        [ 1.4410, -0.6249,  0.0460],\n",
            "        [-0.0661,  0.1654, -0.5206],\n",
            "        [ 0.6002, -0.0683, -0.2919],\n",
            "        [ 0.5713, -0.6619, -0.1637],\n",
            "        [ 0.2272, -1.8014, -0.7538],\n",
            "        [-0.5341, -0.4973, -1.6371]])\n",
            "Output data:\n",
            " tensor([[-2.4479],\n",
            "        [ 1.4232],\n",
            "        [ 2.7016],\n",
            "        [ 0.0155],\n",
            "        [ 0.8676],\n",
            "        [-0.4217],\n",
            "        [ 0.2415],\n",
            "        [-0.2596],\n",
            "        [-2.3420],\n",
            "        [-2.6700]])\n"
          ]
        }
      ],
      "source": [
        "# Create a random data input tensor\n",
        "data = torch.randn(100, 3)\n",
        "# Create some noisey target data\n",
        "target = data.sum(1, keepdims=True) + 0.01 * torch.randn(data.shape[0], 1)\n",
        "\n",
        "print ('Input data:\\n', data[:10])\n",
        "print ('Output data:\\n', target[:10])"
      ]
    },
    {
      "cell_type": "markdown",
      "metadata": {
        "id": "cRctfT4nQSG7"
      },
      "source": [
        "Put the data into the model and see what comes out"
      ]
    },
    {
      "cell_type": "code",
      "execution_count": 53,
      "metadata": {
        "id": "3-NA6PXFQSG7",
        "colab": {
          "base_uri": "https://localhost:8080/"
        },
        "outputId": "96662d79-3d58-4ce2-972b-bb92f3a805df"
      },
      "outputs": [
        {
          "output_type": "stream",
          "name": "stdout",
          "text": [
            "Network output:\n",
            " tensor([[ 0.0188],\n",
            "        [ 0.5564],\n",
            "        [ 0.3243],\n",
            "        [-0.1144],\n",
            "        [ 0.4085],\n",
            "        [ 0.0321],\n",
            "        [ 0.1713],\n",
            "        [ 0.3150],\n",
            "        [ 0.3147],\n",
            "        [-0.2234]])\n",
            "Network output shape: torch.Size([100, 1])\n"
          ]
        }
      ],
      "source": [
        "# To perform a forward pass of the model, \"call\" the network is required\n",
        "# Pytorch's nn.Module class will automatically pass it to the \"forward\" function in the layer class\n",
        "target_pred = linear(data)\n",
        "\n",
        "print(\"Network output:\\n\", target_pred.data[:10])\n",
        "print(\"Network output shape:\", target_pred.shape)"
      ]
    },
    {
      "cell_type": "markdown",
      "metadata": {
        "id": "kKPRNulkQSG8"
      },
      "source": [
        "<h3>Loss Functions and Optimizers</h3>\n",
        "\n",
        "<b>Loss functions</b><br>\n",
        "Using Pytorch can pick from pre-defined functions - Pytorch has many Loss function already created and optimized.\n",
        "\n",
        "<b>Optimizers</b><br>\n",
        "Pytorch has a number of different optimizers, but for now the Gradient Descent (GD) optimizer will be adopted.<br>\n",
        "Note: Most optimizers are just some variant of GD"
      ]
    },
    {
      "cell_type": "code",
      "execution_count": 54,
      "metadata": {
        "id": "lc-SCXGpQSG8"
      },
      "outputs": [],
      "source": [
        "# Lets perform a regression with a mean square error loss\n",
        "loss_function = nn.MSELoss()\n",
        "\n",
        "# Create a stochastic gradient descent optimizer with a learning rate of 0.01\n",
        "optimizer = torch.optim.SGD(linear.parameters(), lr=0.01)"
      ]
    },
    {
      "cell_type": "markdown",
      "metadata": {
        "id": "ldleR_e_QSG8"
      },
      "source": [
        "From the following scatter plot, it can be seen that the output of the model is not the same as the target data."
      ]
    },
    {
      "cell_type": "code",
      "execution_count": 55,
      "metadata": {
        "id": "lBHHkWqQQSG8",
        "colab": {
          "base_uri": "https://localhost:8080/",
          "height": 466
        },
        "outputId": "52088f38-5195-4af4-84ca-3e6ba499b13b"
      },
      "outputs": [
        {
          "output_type": "execute_result",
          "data": {
            "text/plain": [
              "Text(0, 0.5, 'y')"
            ]
          },
          "metadata": {},
          "execution_count": 55
        },
        {
          "output_type": "display_data",
          "data": {
            "text/plain": [
              "<Figure size 640x480 with 1 Axes>"
            ],
            "image/png": "[encoded data removed]"
          },
          "metadata": {}
        }
      ],
      "source": [
        "# Plotting the first dimension of the input vs the output\n",
        "plt.scatter(data[:, 0], target_pred.detach())\n",
        "\n",
        "# Use the Ground Truth data\n",
        "plt.scatter(data[:, 0], target, marker=\"x\")\n",
        "plt.legend([\"Predictions\", \"Ground Truth Data\"])\n",
        "plt.xlabel(\"X\")\n",
        "plt.ylabel(\"y\")"
      ]
    },
    {
      "cell_type": "code",
      "execution_count": 56,
      "metadata": {
        "id": "EvMuwgE8QSG8",
        "colab": {
          "base_uri": "https://localhost:8080/"
        },
        "outputId": "e4177719-652d-4054-eae7-4621ea2c9820"
      },
      "outputs": [
        {
          "output_type": "stream",
          "name": "stdout",
          "text": [
            "loss: 2.45497727394104\n"
          ]
        }
      ],
      "source": [
        "loss = loss_function(target_pred, target)\n",
        "print('loss:', loss.item())"
      ]
    },
    {
      "cell_type": "code",
      "execution_count": 57,
      "metadata": {
        "id": "azbt0hNMQSG8",
        "colab": {
          "base_uri": "https://localhost:8080/"
        },
        "outputId": "8efeade1-b35e-4431-e394-2ae18152e729"
      },
      "outputs": [
        {
          "output_type": "stream",
          "name": "stdout",
          "text": [
            "dL/dw:  tensor([[-1.8201, -1.9948, -1.0952]])\n",
            "dL/db:  tensor([0.3243])\n"
          ]
        }
      ],
      "source": [
        "# Conduct a backward pass\n",
        "loss.backward()\n",
        "\n",
        "# Print out the gradients.\n",
        "print ('dL/dw: ', linear.weight.grad)\n",
        "print ('dL/db: ', linear.bias.grad)\n",
        "\n",
        "# Note for every backwards pass of the model, a forward pass must be performed first\n",
        "# as data from parts of the computational graph have been deleted upon the backward pass to save memory.\n",
        "# Pytorch can hold onto this data, but, in many cases it needs to be recalculated anyway"
      ]
    },
    {
      "cell_type": "markdown",
      "metadata": {
        "id": "rQ69e_ObQSG8"
      },
      "source": [
        "Finally, tell the optimizer to perform an update step"
      ]
    },
    {
      "cell_type": "code",
      "execution_count": 58,
      "metadata": {
        "id": "-Y-3HciRQSG8",
        "colab": {
          "base_uri": "https://localhost:8080/"
        },
        "outputId": "e47eca79-5d58-4ca1-c6c4-7afe85d97118"
      },
      "outputs": [
        {
          "output_type": "stream",
          "name": "stdout",
          "text": [
            "loss after 1 step optimization:  2.3697705268859863\n"
          ]
        }
      ],
      "source": [
        "# The critical step to update the parameter which reduce the loss\n",
        "optimizer.step()\n",
        "\n",
        "# Perform another forward pass of the model to check the new loss\n",
        "target_pred = linear(data)\n",
        "loss = loss_function(target_pred, target)\n",
        "print('loss after 1 step optimization: ', loss.item())"
      ]
    },
    {
      "cell_type": "markdown",
      "metadata": {
        "id": "lMtVYmFtQSG8"
      },
      "source": [
        "<h3>The Training Loop</h3>\n",
        "For most tasks, a single training iteration in Pytorch can be summarised in the following 5 steps:<br>\n",
        "- Forward pass of the model with the data.<br>\n",
        "- Calculate the loss.<br>\n",
        "- Reset the current stored gradients to 0<br>\n",
        "- Backpropagate the loss to calculate the new gradients.<br>\n",
        "- Perform an optimization step.<br>\n",
        "<br>\n",
        "Perform these steps over and over until the model has converged or some other point has been reached (depending on the application)"
      ]
    },
    {
      "cell_type": "code",
      "execution_count": 59,
      "metadata": {
        "id": "keE2DlxgQSG8",
        "colab": {
          "base_uri": "https://localhost:8080/"
        },
        "outputId": "833bf111-810b-48e0-b1ec-cff657b50de1"
      },
      "outputs": [
        {
          "output_type": "stream",
          "name": "stdout",
          "text": [
            "loss: 9.176800813293085e-05\n"
          ]
        }
      ],
      "source": [
        "# Create an empty array to log the loss\n",
        "loss_logger = []\n",
        "\n",
        "# Perform 1000 itterations of the dataset\n",
        "for i in range(1000):\n",
        "    # Perform a forward pass of the data\n",
        "    target_pred = linear(data)\n",
        "\n",
        "    # Calculate the loss\n",
        "    loss = loss_function(target_pred, target)\n",
        "\n",
        "    # .zero_grad sets the stored gradients to 0\n",
        "    optimizer.zero_grad()\n",
        "\n",
        "    # Calculate the new gradients\n",
        "    loss.backward()\n",
        "\n",
        "    # Perform an optimization step\n",
        "    optimizer.step()\n",
        "\n",
        "    loss_logger.append(loss.item())\n",
        "\n",
        "print(\"loss:\", loss.item())"
      ]
    },
    {
      "cell_type": "code",
      "execution_count": 60,
      "metadata": {
        "id": "3soQW7KwQSG8",
        "colab": {
          "base_uri": "https://localhost:8080/",
          "height": 447
        },
        "outputId": "81437274-8377-4ae4-8881-1047df47b8bf"
      },
      "outputs": [
        {
          "output_type": "execute_result",
          "data": {
            "text/plain": [
              "[<matplotlib.lines.Line2D at 0x7f4c975fb7c0>]"
            ]
          },
          "metadata": {},
          "execution_count": 60
        },
        {
          "output_type": "display_data",
          "data": {
            "text/plain": [
              "<Figure size 640x480 with 1 Axes>"
            ],
            "image/png": "[encoded data removed]"
          },
          "metadata": {}
        }
      ],
      "source": [
        "# Plot the decrease of the loss value\n",
        "plt.plot(loss_logger)"
      ]
    },
    {
      "cell_type": "code",
      "execution_count": 61,
      "metadata": {
        "id": "DTHF-NznQSG8",
        "colab": {
          "base_uri": "https://localhost:8080/",
          "height": 466
        },
        "outputId": "e427aaed-ef46-4f91-b16b-dfcd92f9f90c"
      },
      "outputs": [
        {
          "output_type": "execute_result",
          "data": {
            "text/plain": [
              "Text(0, 0.5, 'Ouputs')"
            ]
          },
          "metadata": {},
          "execution_count": 61
        },
        {
          "output_type": "display_data",
          "data": {
            "text/plain": [
              "<Figure size 640x480 with 1 Axes>"
            ],
            "image/png": "[encoded data removed]"
          },
          "metadata": {}
        }
      ],
      "source": [
        "#Plotting the first dimension of the input vs the output\n",
        "plt.scatter(data[:, 0], target_pred.detach())\n",
        "plt.scatter(data[:, 0], target, marker=\"x\")\n",
        "plt.legend([\"Predictions\", \"Ground Truth\"])\n",
        "plt.xlabel(\"Inputs\")\n",
        "plt.ylabel(\"Ouputs\")"
      ]
    }
  ],
  "metadata": {
    "kernelspec": {
      "display_name": "Python 3",
      "language": "python",
      "name": "python3"
    },
    "language_info": {
      "codemirror_mode": {
        "name": "ipython",
        "version": 3
      },
      "file_extension": ".py",
      "mimetype": "text/x-python",
      "name": "python",
      "nbconvert_exporter": "python",
      "pygments_lexer": "ipython3",
      "version": "3.6.9"
    },
    "colab": {
      "provenance": []
    }
  },
  "nbformat": 4,
  "nbformat_minor": 0
}